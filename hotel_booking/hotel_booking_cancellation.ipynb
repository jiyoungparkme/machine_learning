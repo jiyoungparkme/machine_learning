{
 "cells": [
  {
   "cell_type": "code",
   "execution_count": 9,
   "metadata": {},
   "outputs": [
    {
     "name": "stdout",
     "output_type": "stream",
     "text": [
      "(40060, 31)\n"
     ]
    },
    {
     "data": {
      "text/html": [
       "<div>\n",
       "<style scoped>\n",
       "    .dataframe tbody tr th:only-of-type {\n",
       "        vertical-align: middle;\n",
       "    }\n",
       "\n",
       "    .dataframe tbody tr th {\n",
       "        vertical-align: top;\n",
       "    }\n",
       "\n",
       "    .dataframe thead th {\n",
       "        text-align: right;\n",
       "    }\n",
       "</style>\n",
       "<table border=\"1\" class=\"dataframe\">\n",
       "  <thead>\n",
       "    <tr style=\"text-align: right;\">\n",
       "      <th></th>\n",
       "      <th>IsCanceled</th>\n",
       "      <th>LeadTime</th>\n",
       "      <th>ArrivalDateYear</th>\n",
       "      <th>ArrivalDateMonth</th>\n",
       "      <th>ArrivalDateWeekNumber</th>\n",
       "      <th>ArrivalDateDayOfMonth</th>\n",
       "      <th>StaysInWeekendNights</th>\n",
       "      <th>StaysInWeekNights</th>\n",
       "      <th>Adults</th>\n",
       "      <th>Children</th>\n",
       "      <th>...</th>\n",
       "      <th>DepositType</th>\n",
       "      <th>Agent</th>\n",
       "      <th>Company</th>\n",
       "      <th>DaysInWaitingList</th>\n",
       "      <th>CustomerType</th>\n",
       "      <th>ADR</th>\n",
       "      <th>RequiredCarParkingSpaces</th>\n",
       "      <th>TotalOfSpecialRequests</th>\n",
       "      <th>ReservationStatus</th>\n",
       "      <th>ReservationStatusDate</th>\n",
       "    </tr>\n",
       "  </thead>\n",
       "  <tbody>\n",
       "    <tr>\n",
       "      <th>0</th>\n",
       "      <td>0</td>\n",
       "      <td>342</td>\n",
       "      <td>2015</td>\n",
       "      <td>July</td>\n",
       "      <td>27</td>\n",
       "      <td>1</td>\n",
       "      <td>0</td>\n",
       "      <td>0</td>\n",
       "      <td>2</td>\n",
       "      <td>0</td>\n",
       "      <td>...</td>\n",
       "      <td>No Deposit</td>\n",
       "      <td>NULL</td>\n",
       "      <td>NULL</td>\n",
       "      <td>0</td>\n",
       "      <td>Transient</td>\n",
       "      <td>0.0</td>\n",
       "      <td>0</td>\n",
       "      <td>0</td>\n",
       "      <td>Check-Out</td>\n",
       "      <td>2015-07-01</td>\n",
       "    </tr>\n",
       "    <tr>\n",
       "      <th>1</th>\n",
       "      <td>0</td>\n",
       "      <td>737</td>\n",
       "      <td>2015</td>\n",
       "      <td>July</td>\n",
       "      <td>27</td>\n",
       "      <td>1</td>\n",
       "      <td>0</td>\n",
       "      <td>0</td>\n",
       "      <td>2</td>\n",
       "      <td>0</td>\n",
       "      <td>...</td>\n",
       "      <td>No Deposit</td>\n",
       "      <td>NULL</td>\n",
       "      <td>NULL</td>\n",
       "      <td>0</td>\n",
       "      <td>Transient</td>\n",
       "      <td>0.0</td>\n",
       "      <td>0</td>\n",
       "      <td>0</td>\n",
       "      <td>Check-Out</td>\n",
       "      <td>2015-07-01</td>\n",
       "    </tr>\n",
       "    <tr>\n",
       "      <th>2</th>\n",
       "      <td>0</td>\n",
       "      <td>7</td>\n",
       "      <td>2015</td>\n",
       "      <td>July</td>\n",
       "      <td>27</td>\n",
       "      <td>1</td>\n",
       "      <td>0</td>\n",
       "      <td>1</td>\n",
       "      <td>1</td>\n",
       "      <td>0</td>\n",
       "      <td>...</td>\n",
       "      <td>No Deposit</td>\n",
       "      <td>NULL</td>\n",
       "      <td>NULL</td>\n",
       "      <td>0</td>\n",
       "      <td>Transient</td>\n",
       "      <td>75.0</td>\n",
       "      <td>0</td>\n",
       "      <td>0</td>\n",
       "      <td>Check-Out</td>\n",
       "      <td>2015-07-02</td>\n",
       "    </tr>\n",
       "    <tr>\n",
       "      <th>3</th>\n",
       "      <td>0</td>\n",
       "      <td>13</td>\n",
       "      <td>2015</td>\n",
       "      <td>July</td>\n",
       "      <td>27</td>\n",
       "      <td>1</td>\n",
       "      <td>0</td>\n",
       "      <td>1</td>\n",
       "      <td>1</td>\n",
       "      <td>0</td>\n",
       "      <td>...</td>\n",
       "      <td>No Deposit</td>\n",
       "      <td>304</td>\n",
       "      <td>NULL</td>\n",
       "      <td>0</td>\n",
       "      <td>Transient</td>\n",
       "      <td>75.0</td>\n",
       "      <td>0</td>\n",
       "      <td>0</td>\n",
       "      <td>Check-Out</td>\n",
       "      <td>2015-07-02</td>\n",
       "    </tr>\n",
       "    <tr>\n",
       "      <th>4</th>\n",
       "      <td>0</td>\n",
       "      <td>14</td>\n",
       "      <td>2015</td>\n",
       "      <td>July</td>\n",
       "      <td>27</td>\n",
       "      <td>1</td>\n",
       "      <td>0</td>\n",
       "      <td>2</td>\n",
       "      <td>2</td>\n",
       "      <td>0</td>\n",
       "      <td>...</td>\n",
       "      <td>No Deposit</td>\n",
       "      <td>240</td>\n",
       "      <td>NULL</td>\n",
       "      <td>0</td>\n",
       "      <td>Transient</td>\n",
       "      <td>98.0</td>\n",
       "      <td>0</td>\n",
       "      <td>1</td>\n",
       "      <td>Check-Out</td>\n",
       "      <td>2015-07-03</td>\n",
       "    </tr>\n",
       "  </tbody>\n",
       "</table>\n",
       "<p>5 rows × 31 columns</p>\n",
       "</div>"
      ],
      "text/plain": [
       "   IsCanceled  LeadTime  ArrivalDateYear ArrivalDateMonth  \\\n",
       "0           0       342             2015             July   \n",
       "1           0       737             2015             July   \n",
       "2           0         7             2015             July   \n",
       "3           0        13             2015             July   \n",
       "4           0        14             2015             July   \n",
       "\n",
       "   ArrivalDateWeekNumber  ArrivalDateDayOfMonth  StaysInWeekendNights  \\\n",
       "0                     27                      1                     0   \n",
       "1                     27                      1                     0   \n",
       "2                     27                      1                     0   \n",
       "3                     27                      1                     0   \n",
       "4                     27                      1                     0   \n",
       "\n",
       "   StaysInWeekNights  Adults  Children  ...      DepositType        Agent  \\\n",
       "0                  0       2         0  ...  No Deposit              NULL   \n",
       "1                  0       2         0  ...  No Deposit              NULL   \n",
       "2                  1       1         0  ...  No Deposit              NULL   \n",
       "3                  1       1         0  ...  No Deposit               304   \n",
       "4                  2       2         0  ...  No Deposit               240   \n",
       "\n",
       "       Company DaysInWaitingList CustomerType   ADR  RequiredCarParkingSpaces  \\\n",
       "0         NULL                 0    Transient   0.0                         0   \n",
       "1         NULL                 0    Transient   0.0                         0   \n",
       "2         NULL                 0    Transient  75.0                         0   \n",
       "3         NULL                 0    Transient  75.0                         0   \n",
       "4         NULL                 0    Transient  98.0                         0   \n",
       "\n",
       "   TotalOfSpecialRequests ReservationStatus ReservationStatusDate  \n",
       "0                       0         Check-Out            2015-07-01  \n",
       "1                       0         Check-Out            2015-07-01  \n",
       "2                       0         Check-Out            2015-07-02  \n",
       "3                       0         Check-Out            2015-07-02  \n",
       "4                       1         Check-Out            2015-07-03  \n",
       "\n",
       "[5 rows x 31 columns]"
      ]
     },
     "execution_count": 9,
     "metadata": {},
     "output_type": "execute_result"
    }
   ],
   "source": [
    "import pandas as pd\n",
    "import numpy as np\n",
    "h1 = pd.read_csv(\"H1.csv\")\n",
    "print(h1.shape)\n",
    "h1.head()"
   ]
  },
  {
   "cell_type": "code",
   "execution_count": 2,
   "metadata": {
    "scrolled": true
   },
   "outputs": [
    {
     "data": {
      "text/html": [
       "<div>\n",
       "<style scoped>\n",
       "    .dataframe tbody tr th:only-of-type {\n",
       "        vertical-align: middle;\n",
       "    }\n",
       "\n",
       "    .dataframe tbody tr th {\n",
       "        vertical-align: top;\n",
       "    }\n",
       "\n",
       "    .dataframe thead th {\n",
       "        text-align: right;\n",
       "    }\n",
       "</style>\n",
       "<table border=\"1\" class=\"dataframe\">\n",
       "  <thead>\n",
       "    <tr style=\"text-align: right;\">\n",
       "      <th></th>\n",
       "      <th>count</th>\n",
       "      <th>mean</th>\n",
       "      <th>std</th>\n",
       "      <th>min</th>\n",
       "      <th>25%</th>\n",
       "      <th>50%</th>\n",
       "      <th>75%</th>\n",
       "      <th>max</th>\n",
       "    </tr>\n",
       "  </thead>\n",
       "  <tbody>\n",
       "    <tr>\n",
       "      <th>IsCanceled</th>\n",
       "      <td>40060.0</td>\n",
       "      <td>0.277634</td>\n",
       "      <td>0.447837</td>\n",
       "      <td>0.00</td>\n",
       "      <td>0.0</td>\n",
       "      <td>0.0</td>\n",
       "      <td>1.0</td>\n",
       "      <td>1.0</td>\n",
       "    </tr>\n",
       "    <tr>\n",
       "      <th>LeadTime</th>\n",
       "      <td>40060.0</td>\n",
       "      <td>92.675686</td>\n",
       "      <td>97.285315</td>\n",
       "      <td>0.00</td>\n",
       "      <td>10.0</td>\n",
       "      <td>57.0</td>\n",
       "      <td>155.0</td>\n",
       "      <td>737.0</td>\n",
       "    </tr>\n",
       "    <tr>\n",
       "      <th>ArrivalDateYear</th>\n",
       "      <td>40060.0</td>\n",
       "      <td>2016.121443</td>\n",
       "      <td>0.722347</td>\n",
       "      <td>2015.00</td>\n",
       "      <td>2016.0</td>\n",
       "      <td>2016.0</td>\n",
       "      <td>2017.0</td>\n",
       "      <td>2017.0</td>\n",
       "    </tr>\n",
       "    <tr>\n",
       "      <th>ArrivalDateWeekNumber</th>\n",
       "      <td>40060.0</td>\n",
       "      <td>27.140864</td>\n",
       "      <td>14.005441</td>\n",
       "      <td>1.00</td>\n",
       "      <td>16.0</td>\n",
       "      <td>28.0</td>\n",
       "      <td>38.0</td>\n",
       "      <td>53.0</td>\n",
       "    </tr>\n",
       "    <tr>\n",
       "      <th>ArrivalDateDayOfMonth</th>\n",
       "      <td>40060.0</td>\n",
       "      <td>15.821243</td>\n",
       "      <td>8.883708</td>\n",
       "      <td>1.00</td>\n",
       "      <td>8.0</td>\n",
       "      <td>16.0</td>\n",
       "      <td>24.0</td>\n",
       "      <td>31.0</td>\n",
       "    </tr>\n",
       "    <tr>\n",
       "      <th>StaysInWeekendNights</th>\n",
       "      <td>40060.0</td>\n",
       "      <td>1.189815</td>\n",
       "      <td>1.147812</td>\n",
       "      <td>0.00</td>\n",
       "      <td>0.0</td>\n",
       "      <td>1.0</td>\n",
       "      <td>2.0</td>\n",
       "      <td>19.0</td>\n",
       "    </tr>\n",
       "    <tr>\n",
       "      <th>StaysInWeekNights</th>\n",
       "      <td>40060.0</td>\n",
       "      <td>3.128732</td>\n",
       "      <td>2.461329</td>\n",
       "      <td>0.00</td>\n",
       "      <td>1.0</td>\n",
       "      <td>3.0</td>\n",
       "      <td>5.0</td>\n",
       "      <td>50.0</td>\n",
       "    </tr>\n",
       "    <tr>\n",
       "      <th>Adults</th>\n",
       "      <td>40060.0</td>\n",
       "      <td>1.867149</td>\n",
       "      <td>0.697285</td>\n",
       "      <td>0.00</td>\n",
       "      <td>2.0</td>\n",
       "      <td>2.0</td>\n",
       "      <td>2.0</td>\n",
       "      <td>55.0</td>\n",
       "    </tr>\n",
       "    <tr>\n",
       "      <th>Children</th>\n",
       "      <td>40060.0</td>\n",
       "      <td>0.128682</td>\n",
       "      <td>0.445195</td>\n",
       "      <td>0.00</td>\n",
       "      <td>0.0</td>\n",
       "      <td>0.0</td>\n",
       "      <td>0.0</td>\n",
       "      <td>10.0</td>\n",
       "    </tr>\n",
       "    <tr>\n",
       "      <th>Babies</th>\n",
       "      <td>40060.0</td>\n",
       "      <td>0.013904</td>\n",
       "      <td>0.118998</td>\n",
       "      <td>0.00</td>\n",
       "      <td>0.0</td>\n",
       "      <td>0.0</td>\n",
       "      <td>0.0</td>\n",
       "      <td>2.0</td>\n",
       "    </tr>\n",
       "    <tr>\n",
       "      <th>IsRepeatedGuest</th>\n",
       "      <td>40060.0</td>\n",
       "      <td>0.044383</td>\n",
       "      <td>0.205948</td>\n",
       "      <td>0.00</td>\n",
       "      <td>0.0</td>\n",
       "      <td>0.0</td>\n",
       "      <td>0.0</td>\n",
       "      <td>1.0</td>\n",
       "    </tr>\n",
       "    <tr>\n",
       "      <th>PreviousCancellations</th>\n",
       "      <td>40060.0</td>\n",
       "      <td>0.101722</td>\n",
       "      <td>1.335115</td>\n",
       "      <td>0.00</td>\n",
       "      <td>0.0</td>\n",
       "      <td>0.0</td>\n",
       "      <td>0.0</td>\n",
       "      <td>26.0</td>\n",
       "    </tr>\n",
       "    <tr>\n",
       "      <th>PreviousBookingsNotCanceled</th>\n",
       "      <td>40060.0</td>\n",
       "      <td>0.146455</td>\n",
       "      <td>1.001955</td>\n",
       "      <td>0.00</td>\n",
       "      <td>0.0</td>\n",
       "      <td>0.0</td>\n",
       "      <td>0.0</td>\n",
       "      <td>30.0</td>\n",
       "    </tr>\n",
       "    <tr>\n",
       "      <th>BookingChanges</th>\n",
       "      <td>40060.0</td>\n",
       "      <td>0.287968</td>\n",
       "      <td>0.726548</td>\n",
       "      <td>0.00</td>\n",
       "      <td>0.0</td>\n",
       "      <td>0.0</td>\n",
       "      <td>0.0</td>\n",
       "      <td>17.0</td>\n",
       "    </tr>\n",
       "    <tr>\n",
       "      <th>DaysInWaitingList</th>\n",
       "      <td>40060.0</td>\n",
       "      <td>0.527758</td>\n",
       "      <td>7.428580</td>\n",
       "      <td>0.00</td>\n",
       "      <td>0.0</td>\n",
       "      <td>0.0</td>\n",
       "      <td>0.0</td>\n",
       "      <td>185.0</td>\n",
       "    </tr>\n",
       "    <tr>\n",
       "      <th>ADR</th>\n",
       "      <td>40060.0</td>\n",
       "      <td>94.952930</td>\n",
       "      <td>61.442418</td>\n",
       "      <td>-6.38</td>\n",
       "      <td>50.0</td>\n",
       "      <td>75.0</td>\n",
       "      <td>125.0</td>\n",
       "      <td>508.0</td>\n",
       "    </tr>\n",
       "    <tr>\n",
       "      <th>RequiredCarParkingSpaces</th>\n",
       "      <td>40060.0</td>\n",
       "      <td>0.138068</td>\n",
       "      <td>0.351001</td>\n",
       "      <td>0.00</td>\n",
       "      <td>0.0</td>\n",
       "      <td>0.0</td>\n",
       "      <td>0.0</td>\n",
       "      <td>8.0</td>\n",
       "    </tr>\n",
       "    <tr>\n",
       "      <th>TotalOfSpecialRequests</th>\n",
       "      <td>40060.0</td>\n",
       "      <td>0.619770</td>\n",
       "      <td>0.813930</td>\n",
       "      <td>0.00</td>\n",
       "      <td>0.0</td>\n",
       "      <td>0.0</td>\n",
       "      <td>1.0</td>\n",
       "      <td>5.0</td>\n",
       "    </tr>\n",
       "  </tbody>\n",
       "</table>\n",
       "</div>"
      ],
      "text/plain": [
       "                               count         mean        std      min     25%  \\\n",
       "IsCanceled                   40060.0     0.277634   0.447837     0.00     0.0   \n",
       "LeadTime                     40060.0    92.675686  97.285315     0.00    10.0   \n",
       "ArrivalDateYear              40060.0  2016.121443   0.722347  2015.00  2016.0   \n",
       "ArrivalDateWeekNumber        40060.0    27.140864  14.005441     1.00    16.0   \n",
       "ArrivalDateDayOfMonth        40060.0    15.821243   8.883708     1.00     8.0   \n",
       "StaysInWeekendNights         40060.0     1.189815   1.147812     0.00     0.0   \n",
       "StaysInWeekNights            40060.0     3.128732   2.461329     0.00     1.0   \n",
       "Adults                       40060.0     1.867149   0.697285     0.00     2.0   \n",
       "Children                     40060.0     0.128682   0.445195     0.00     0.0   \n",
       "Babies                       40060.0     0.013904   0.118998     0.00     0.0   \n",
       "IsRepeatedGuest              40060.0     0.044383   0.205948     0.00     0.0   \n",
       "PreviousCancellations        40060.0     0.101722   1.335115     0.00     0.0   \n",
       "PreviousBookingsNotCanceled  40060.0     0.146455   1.001955     0.00     0.0   \n",
       "BookingChanges               40060.0     0.287968   0.726548     0.00     0.0   \n",
       "DaysInWaitingList            40060.0     0.527758   7.428580     0.00     0.0   \n",
       "ADR                          40060.0    94.952930  61.442418    -6.38    50.0   \n",
       "RequiredCarParkingSpaces     40060.0     0.138068   0.351001     0.00     0.0   \n",
       "TotalOfSpecialRequests       40060.0     0.619770   0.813930     0.00     0.0   \n",
       "\n",
       "                                50%     75%     max  \n",
       "IsCanceled                      0.0     1.0     1.0  \n",
       "LeadTime                       57.0   155.0   737.0  \n",
       "ArrivalDateYear              2016.0  2017.0  2017.0  \n",
       "ArrivalDateWeekNumber          28.0    38.0    53.0  \n",
       "ArrivalDateDayOfMonth          16.0    24.0    31.0  \n",
       "StaysInWeekendNights            1.0     2.0    19.0  \n",
       "StaysInWeekNights               3.0     5.0    50.0  \n",
       "Adults                          2.0     2.0    55.0  \n",
       "Children                        0.0     0.0    10.0  \n",
       "Babies                          0.0     0.0     2.0  \n",
       "IsRepeatedGuest                 0.0     0.0     1.0  \n",
       "PreviousCancellations           0.0     0.0    26.0  \n",
       "PreviousBookingsNotCanceled     0.0     0.0    30.0  \n",
       "BookingChanges                  0.0     0.0    17.0  \n",
       "DaysInWaitingList               0.0     0.0   185.0  \n",
       "ADR                            75.0   125.0   508.0  \n",
       "RequiredCarParkingSpaces        0.0     0.0     8.0  \n",
       "TotalOfSpecialRequests          0.0     1.0     5.0  "
      ]
     },
     "execution_count": 2,
     "metadata": {},
     "output_type": "execute_result"
    }
   ],
   "source": [
    "h1.describe().T"
   ]
  },
  {
   "cell_type": "markdown",
   "metadata": {},
   "source": [
    "##### country column \n",
    "* variety of nationality\n",
    "* highest visiting nationality"
   ]
  },
  {
   "cell_type": "code",
   "execution_count": 7,
   "metadata": {},
   "outputs": [
    {
     "data": {
      "text/plain": [
       "126"
      ]
     },
     "execution_count": 7,
     "metadata": {},
     "output_type": "execute_result"
    }
   ],
   "source": [
    "# variety of nationality\n",
    "print(len(h1['Country'].unique()))"
   ]
  },
  {
   "cell_type": "code",
   "execution_count": 53,
   "metadata": {},
   "outputs": [
    {
     "data": {
      "text/html": [
       "<div>\n",
       "<style scoped>\n",
       "    .dataframe tbody tr th:only-of-type {\n",
       "        vertical-align: middle;\n",
       "    }\n",
       "\n",
       "    .dataframe tbody tr th {\n",
       "        vertical-align: top;\n",
       "    }\n",
       "\n",
       "    .dataframe thead th {\n",
       "        text-align: right;\n",
       "    }\n",
       "</style>\n",
       "<table border=\"1\" class=\"dataframe\">\n",
       "  <thead>\n",
       "    <tr style=\"text-align: right;\">\n",
       "      <th></th>\n",
       "      <th>count</th>\n",
       "    </tr>\n",
       "    <tr>\n",
       "      <th>Country</th>\n",
       "      <th></th>\n",
       "    </tr>\n",
       "  </thead>\n",
       "  <tbody>\n",
       "    <tr>\n",
       "      <th>PRT</th>\n",
       "      <td>17630</td>\n",
       "    </tr>\n",
       "    <tr>\n",
       "      <th>GBR</th>\n",
       "      <td>6814</td>\n",
       "    </tr>\n",
       "    <tr>\n",
       "      <th>ESP</th>\n",
       "      <td>3957</td>\n",
       "    </tr>\n",
       "    <tr>\n",
       "      <th>IRL</th>\n",
       "      <td>2166</td>\n",
       "    </tr>\n",
       "    <tr>\n",
       "      <th>FRA</th>\n",
       "      <td>1611</td>\n",
       "    </tr>\n",
       "    <tr>\n",
       "      <th>...</th>\n",
       "      <td>...</td>\n",
       "    </tr>\n",
       "    <tr>\n",
       "      <th>MKD</th>\n",
       "      <td>1</td>\n",
       "    </tr>\n",
       "    <tr>\n",
       "      <th>PLW</th>\n",
       "      <td>1</td>\n",
       "    </tr>\n",
       "    <tr>\n",
       "      <th>PER</th>\n",
       "      <td>1</td>\n",
       "    </tr>\n",
       "    <tr>\n",
       "      <th>MUS</th>\n",
       "      <td>1</td>\n",
       "    </tr>\n",
       "    <tr>\n",
       "      <th>CYM</th>\n",
       "      <td>1</td>\n",
       "    </tr>\n",
       "  </tbody>\n",
       "</table>\n",
       "<p>125 rows × 1 columns</p>\n",
       "</div>"
      ],
      "text/plain": [
       "         count\n",
       "Country       \n",
       "PRT      17630\n",
       "GBR       6814\n",
       "ESP       3957\n",
       "IRL       2166\n",
       "FRA       1611\n",
       "...        ...\n",
       "MKD          1\n",
       "PLW          1\n",
       "PER          1\n",
       "MUS          1\n",
       "CYM          1\n",
       "\n",
       "[125 rows x 1 columns]"
      ]
     },
     "execution_count": 53,
     "metadata": {},
     "output_type": "execute_result"
    }
   ],
   "source": [
    "# highest visiting nationality\n",
    "h1['count'] = 1\n",
    "countries = h1.groupby(['Country']).agg({\"count\" : sum}).sort_values(by='count', ascending=False)\n",
    "countries"
   ]
  },
  {
   "cell_type": "code",
   "execution_count": 16,
   "metadata": {},
   "outputs": [
    {
     "data": {
      "text/plain": [
       "<AxesSubplot:xlabel='Country'>"
      ]
     },
     "execution_count": 16,
     "metadata": {},
     "output_type": "execute_result"
    },
    {
     "data": {
      "image/png": "[encoded data removed]",
      "text/plain": [
       "<Figure size 432x288 with 1 Axes>"
      ]
     },
     "metadata": {
      "needs_background": "light"
     },
     "output_type": "display_data"
    }
   ],
   "source": [
    "countries.plot()"
   ]
  },
  {
   "cell_type": "code",
   "execution_count": 17,
   "metadata": {},
   "outputs": [
    {
     "data": {
      "text/plain": [
       "<AxesSubplot:xlabel='Country'>"
      ]
     },
     "execution_count": 17,
     "metadata": {},
     "output_type": "execute_result"
    },
    {
     "data": {
      "image/png": "[encoded data removed]",
      "text/plain": [
       "<Figure size 432x288 with 1 Axes>"
      ]
     },
     "metadata": {
      "needs_background": "light"
     },
     "output_type": "display_data"
    }
   ],
   "source": [
    "# apply log scaling\n",
    "# To show the difference between small values\n",
    "countries['count'].apply(lambda x : np.log(x)).plot()"
   ]
  },
  {
   "cell_type": "markdown",
   "metadata": {},
   "source": [
    "##### cancellation ratio by nationality\n",
    "* highest cancellation nationality"
   ]
  },
  {
   "cell_type": "code",
   "execution_count": 19,
   "metadata": {},
   "outputs": [
    {
     "data": {
      "text/html": [
       "<div>\n",
       "<style scoped>\n",
       "    .dataframe tbody tr th:only-of-type {\n",
       "        vertical-align: middle;\n",
       "    }\n",
       "\n",
       "    .dataframe tbody tr th {\n",
       "        vertical-align: top;\n",
       "    }\n",
       "\n",
       "    .dataframe thead th {\n",
       "        text-align: right;\n",
       "    }\n",
       "</style>\n",
       "<table border=\"1\" class=\"dataframe\">\n",
       "  <thead>\n",
       "    <tr style=\"text-align: right;\">\n",
       "      <th></th>\n",
       "      <th>IsCanceled</th>\n",
       "    </tr>\n",
       "    <tr>\n",
       "      <th>Country</th>\n",
       "      <th></th>\n",
       "    </tr>\n",
       "  </thead>\n",
       "  <tbody>\n",
       "    <tr>\n",
       "      <th>SEN</th>\n",
       "      <td>1.0</td>\n",
       "    </tr>\n",
       "    <tr>\n",
       "      <th>JEY</th>\n",
       "      <td>1.0</td>\n",
       "    </tr>\n",
       "    <tr>\n",
       "      <th>TUN</th>\n",
       "      <td>1.0</td>\n",
       "    </tr>\n",
       "    <tr>\n",
       "      <th>SYC</th>\n",
       "      <td>1.0</td>\n",
       "    </tr>\n",
       "    <tr>\n",
       "      <th>GGY</th>\n",
       "      <td>1.0</td>\n",
       "    </tr>\n",
       "    <tr>\n",
       "      <th>...</th>\n",
       "      <td>...</td>\n",
       "    </tr>\n",
       "    <tr>\n",
       "      <th>JPN</th>\n",
       "      <td>0.0</td>\n",
       "    </tr>\n",
       "    <tr>\n",
       "      <th>JAM</th>\n",
       "      <td>0.0</td>\n",
       "    </tr>\n",
       "    <tr>\n",
       "      <th>ISL</th>\n",
       "      <td>0.0</td>\n",
       "    </tr>\n",
       "    <tr>\n",
       "      <th>IRN</th>\n",
       "      <td>0.0</td>\n",
       "    </tr>\n",
       "    <tr>\n",
       "      <th>ZWE</th>\n",
       "      <td>0.0</td>\n",
       "    </tr>\n",
       "  </tbody>\n",
       "</table>\n",
       "<p>125 rows × 1 columns</p>\n",
       "</div>"
      ],
      "text/plain": [
       "         IsCanceled\n",
       "Country            \n",
       "SEN             1.0\n",
       "JEY             1.0\n",
       "TUN             1.0\n",
       "SYC             1.0\n",
       "GGY             1.0\n",
       "...             ...\n",
       "JPN             0.0\n",
       "JAM             0.0\n",
       "ISL             0.0\n",
       "IRN             0.0\n",
       "ZWE             0.0\n",
       "\n",
       "[125 rows x 1 columns]"
      ]
     },
     "execution_count": 19,
     "metadata": {},
     "output_type": "execute_result"
    }
   ],
   "source": [
    "# cancellation rate according to nationality\n",
    "country_cancel = h1.groupby(\"Country\").agg({\"IsCanceled\":np.mean}).sort_values(by='IsCanceled', ascending=False)\n",
    "country_cancel"
   ]
  },
  {
   "cell_type": "code",
   "execution_count": 28,
   "metadata": {},
   "outputs": [
    {
     "data": {
      "text/html": [
       "<div>\n",
       "<style scoped>\n",
       "    .dataframe tbody tr th:only-of-type {\n",
       "        vertical-align: middle;\n",
       "    }\n",
       "\n",
       "    .dataframe tbody tr th {\n",
       "        vertical-align: top;\n",
       "    }\n",
       "\n",
       "    .dataframe thead th {\n",
       "        text-align: right;\n",
       "    }\n",
       "</style>\n",
       "<table border=\"1\" class=\"dataframe\">\n",
       "  <thead>\n",
       "    <tr style=\"text-align: right;\">\n",
       "      <th></th>\n",
       "      <th>IsCanceled</th>\n",
       "    </tr>\n",
       "    <tr>\n",
       "      <th>Country</th>\n",
       "      <th></th>\n",
       "    </tr>\n",
       "  </thead>\n",
       "  <tbody>\n",
       "    <tr>\n",
       "      <th>PRT</th>\n",
       "      <td>0.421894</td>\n",
       "    </tr>\n",
       "    <tr>\n",
       "      <th>RUS</th>\n",
       "      <td>0.322751</td>\n",
       "    </tr>\n",
       "    <tr>\n",
       "      <th>CHE</th>\n",
       "      <td>0.257471</td>\n",
       "    </tr>\n",
       "    <tr>\n",
       "      <th>SWE</th>\n",
       "      <td>0.240132</td>\n",
       "    </tr>\n",
       "    <tr>\n",
       "      <th>BRA</th>\n",
       "      <td>0.234884</td>\n",
       "    </tr>\n",
       "    <tr>\n",
       "      <th>ESP</th>\n",
       "      <td>0.215062</td>\n",
       "    </tr>\n",
       "    <tr>\n",
       "      <th>IRL</th>\n",
       "      <td>0.199446</td>\n",
       "    </tr>\n",
       "    <tr>\n",
       "      <th>NOR</th>\n",
       "      <td>0.186992</td>\n",
       "    </tr>\n",
       "    <tr>\n",
       "      <th>ROU</th>\n",
       "      <td>0.180791</td>\n",
       "    </tr>\n",
       "    <tr>\n",
       "      <th>ITA</th>\n",
       "      <td>0.174292</td>\n",
       "    </tr>\n",
       "    <tr>\n",
       "      <th>AUT</th>\n",
       "      <td>0.161905</td>\n",
       "    </tr>\n",
       "    <tr>\n",
       "      <th>USA</th>\n",
       "      <td>0.150313</td>\n",
       "    </tr>\n",
       "    <tr>\n",
       "      <th>CN</th>\n",
       "      <td>0.135211</td>\n",
       "    </tr>\n",
       "    <tr>\n",
       "      <th>BEL</th>\n",
       "      <td>0.131696</td>\n",
       "    </tr>\n",
       "    <tr>\n",
       "      <th>FRA</th>\n",
       "      <td>0.130975</td>\n",
       "    </tr>\n",
       "    <tr>\n",
       "      <th>GBR</th>\n",
       "      <td>0.130760</td>\n",
       "    </tr>\n",
       "    <tr>\n",
       "      <th>DEU</th>\n",
       "      <td>0.121363</td>\n",
       "    </tr>\n",
       "    <tr>\n",
       "      <th>POL</th>\n",
       "      <td>0.117117</td>\n",
       "    </tr>\n",
       "    <tr>\n",
       "      <th>NLD</th>\n",
       "      <td>0.108949</td>\n",
       "    </tr>\n",
       "    <tr>\n",
       "      <th>FIN</th>\n",
       "      <td>0.105960</td>\n",
       "    </tr>\n",
       "    <tr>\n",
       "      <th>CHN</th>\n",
       "      <td>0.067164</td>\n",
       "    </tr>\n",
       "  </tbody>\n",
       "</table>\n",
       "</div>"
      ],
      "text/plain": [
       "         IsCanceled\n",
       "Country            \n",
       "PRT        0.421894\n",
       "RUS        0.322751\n",
       "CHE        0.257471\n",
       "SWE        0.240132\n",
       "BRA        0.234884\n",
       "ESP        0.215062\n",
       "IRL        0.199446\n",
       "NOR        0.186992\n",
       "ROU        0.180791\n",
       "ITA        0.174292\n",
       "AUT        0.161905\n",
       "USA        0.150313\n",
       "CN         0.135211\n",
       "BEL        0.131696\n",
       "FRA        0.130975\n",
       "GBR        0.130760\n",
       "DEU        0.121363\n",
       "POL        0.117117\n",
       "NLD        0.108949\n",
       "FIN        0.105960\n",
       "CHN        0.067164"
      ]
     },
     "execution_count": 28,
     "metadata": {},
     "output_type": "execute_result"
    }
   ],
   "source": [
    "# fliter by valid countries (visit over 100) \n",
    "valid = list(countries.loc[countries['count'] > 100].T.columns)\n",
    "country_cancel.T[valid].T.sort_values(by='IsCanceled', ascending=False)"
   ]
  },
  {
   "cell_type": "code",
   "execution_count": 30,
   "metadata": {},
   "outputs": [
    {
     "data": {
      "text/plain": [
       "<AxesSubplot:xlabel='LeadTime'>"
      ]
     },
     "execution_count": 30,
     "metadata": {},
     "output_type": "execute_result"
    },
    {
     "data": {
      "image/png": "[encoded data removed]",
      "text/plain": [
       "<Figure size 432x288 with 1 Axes>"
      ]
     },
     "metadata": {
      "needs_background": "light"
     },
     "output_type": "display_data"
    }
   ],
   "source": [
    "# effect of leadtime on cancellation rate\n",
    "h1.groupby(\"LeadTime\").agg({\"IsCanceled\": np.mean}).plot()"
   ]
  },
  {
   "cell_type": "code",
   "execution_count": 55,
   "metadata": {},
   "outputs": [
    {
     "data": {
      "text/plain": [
       "<AxesSubplot:xlabel='LeadTime_month'>"
      ]
     },
     "execution_count": 55,
     "metadata": {},
     "output_type": "execute_result"
    },
    {
     "data": {
      "image/png": "[encoded data removed]",
      "text/plain": [
       "<Figure size 432x288 with 1 Axes>"
      ]
     },
     "metadata": {
      "needs_background": "light"
     },
     "output_type": "display_data"
    }
   ],
   "source": [
    "# effect of leadtime_week on cacellation rate\n",
    "h1['LeadTime_month'] = h1['LeadTime'].apply(lambda x: x//30)\n",
    "ga = h1.groupby(\"LeadTime_month\").agg({\"IsCanceled\" : np.mean})\n",
    "ga.plot()"
   ]
  },
  {
   "cell_type": "markdown",
   "metadata": {},
   "source": [
    "##### information from exploration\n",
    "* 125 nationality\n",
    "* most of customers are from PRT\n",
    "* most customers by nationality visited few times\n",
    "* PRT customers cancel reservations the most\n",
    "* the shorter the lead time, the lower the cancellation rate."
   ]
  },
  {
   "cell_type": "markdown",
   "metadata": {},
   "source": [
    "##### map Categorial, Nominal data to numerical data\n",
    "* DepositType\n",
    "* Meal"
   ]
  },
  {
   "cell_type": "code",
   "execution_count": 61,
   "metadata": {},
   "outputs": [
    {
     "data": {
      "text/plain": [
       "array(['No Deposit', 'Refundable', 'Non Refund'], dtype=object)"
      ]
     },
     "execution_count": 61,
     "metadata": {},
     "output_type": "execute_result"
    }
   ],
   "source": [
    "# DepositType\n",
    "h1['DepositType'].unique()"
   ]
  },
  {
   "cell_type": "code",
   "execution_count": 59,
   "metadata": {},
   "outputs": [
    {
     "data": {
      "text/plain": [
       "array(['No Deposit', 'Refundable', 'Non Refund'], dtype=object)"
      ]
     },
     "execution_count": 59,
     "metadata": {},
     "output_type": "execute_result"
    }
   ],
   "source": [
    "h1['DepositType'] = h1['DepositType'].apply(lambda x: x.strip())\n",
    "h1['DepositType'].unique()"
   ]
  },
  {
   "cell_type": "code",
   "execution_count": 60,
   "metadata": {},
   "outputs": [
    {
     "data": {
      "text/plain": [
       "array([0, 1, 2], dtype=int64)"
      ]
     },
     "execution_count": 60,
     "metadata": {},
     "output_type": "execute_result"
    }
   ],
   "source": [
    "mapper = {\"No Deposit\" : 0, 'Refundable' : 1, 'Non Refund' : 2 }\n",
    "h1['CustomerRisk'] = h1['DepositType'].map(mapper)\n",
    "h1['CustomerRisk'].unique()"
   ]
  },
  {
   "cell_type": "code",
   "execution_count": 62,
   "metadata": {},
   "outputs": [
    {
     "data": {
      "text/plain": [
       "array(['BB       ', 'FB       ', 'HB       ', 'SC       ', 'Undefined'],\n",
       "      dtype=object)"
      ]
     },
     "execution_count": 62,
     "metadata": {},
     "output_type": "execute_result"
    }
   ],
   "source": [
    "# Mean\n",
    "h1['Meal'].unique()"
   ]
  },
  {
   "cell_type": "code",
   "execution_count": 91,
   "metadata": {},
   "outputs": [
    {
     "data": {
      "text/plain": [
       "array(['BB', 'FB', 'HB', 'SC', 'Undefined'], dtype=object)"
      ]
     },
     "execution_count": 91,
     "metadata": {},
     "output_type": "execute_result"
    }
   ],
   "source": [
    "h1['Meal'] = h1['Meal'].apply(lambda x: x.strip())\n",
    "h1['Meal'].unique()"
   ]
  },
  {
   "cell_type": "code",
   "execution_count": 92,
   "metadata": {},
   "outputs": [
    {
     "data": {
      "text/plain": [
       "array([1, 3, 2, 0], dtype=int64)"
      ]
     },
     "execution_count": 92,
     "metadata": {},
     "output_type": "execute_result"
    }
   ],
   "source": [
    "mapper = {'SC':0, 'Undefined':0, 'BB':1, 'HB':2, 'FB':3}\n",
    "h1['Stay'] = h1['Meal'].map(mapper)\n",
    "h1['Stay'].unique()"
   ]
  },
  {
   "cell_type": "markdown",
   "metadata": {},
   "source": [
    "##### train/ test set split"
   ]
  },
  {
   "cell_type": "code",
   "execution_count": 93,
   "metadata": {},
   "outputs": [
    {
     "data": {
      "text/plain": [
       "Index(['IsCanceled', 'LeadTime', 'ArrivalDateYear', 'ArrivalDateWeekNumber',\n",
       "       'ArrivalDateDayOfMonth', 'StaysInWeekendNights', 'StaysInWeekNights',\n",
       "       'Adults', 'Children', 'Babies', 'IsRepeatedGuest',\n",
       "       'PreviousCancellations', 'PreviousBookingsNotCanceled',\n",
       "       'BookingChanges', 'DaysInWaitingList', 'ADR',\n",
       "       'RequiredCarParkingSpaces', 'TotalOfSpecialRequests', 'count',\n",
       "       'LeadTime_week', 'LeadTime_month', 'CustomerRisk', 'Stay'],\n",
       "      dtype='object')"
      ]
     },
     "execution_count": 93,
     "metadata": {},
     "output_type": "execute_result"
    }
   ],
   "source": [
    "h1.describe().columns"
   ]
  },
  {
   "cell_type": "code",
   "execution_count": 94,
   "metadata": {},
   "outputs": [],
   "source": [
    "features = ['LeadTime', 'ArrivalDateYear', 'ArrivalDateWeekNumber',\n",
    "       'ArrivalDateDayOfMonth', 'StaysInWeekendNights', 'StaysInWeekNights',\n",
    "       'Adults', 'Children', 'Babies', 'IsRepeatedGuest',\n",
    "       'PreviousCancellations', 'PreviousBookingsNotCanceled',\n",
    "       'BookingChanges', 'DaysInWaitingList', 'ADR',\n",
    "       'RequiredCarParkingSpaces', 'TotalOfSpecialRequests', 'count',\n",
    "       'CustomerRisk', 'Stay']\n",
    "label = \"IsCanceled\""
   ]
  },
  {
   "cell_type": "code",
   "execution_count": 95,
   "metadata": {},
   "outputs": [],
   "source": [
    "train, test = h1[::2].reset_index(), h1[1::2].reset_index()\n",
    "X_train, y_train = train[features], train[label]\n",
    "X_test, y_test  = test[features], test[label]"
   ]
  },
  {
   "cell_type": "markdown",
   "metadata": {},
   "source": [
    "##### model planning"
   ]
  },
  {
   "cell_type": "code",
   "execution_count": 96,
   "metadata": {},
   "outputs": [],
   "source": [
    "# DecisionTreeClassifier\n",
    "from sklearn.tree import DecisionTreeClassifier as dt\n",
    "from sklearn.tree import export_graphviz as eg\n",
    "model = dt()\n",
    "model.fit(X_train, y_train)\n",
    "eg(model, out_file='tree.txt', feature_names=features, class_names=['no', 'yes'])"
   ]
  },
  {
   "cell_type": "code",
   "execution_count": 97,
   "metadata": {},
   "outputs": [
    {
     "data": {
      "text/plain": [
       "0"
      ]
     },
     "execution_count": 97,
     "metadata": {},
     "output_type": "execute_result"
    }
   ],
   "source": [
    "split_1 = train.loc[train['CustomerRisk'] <= 1.5]\n",
    "split_2 = split_1.loc[split_1['LeadTime'] > 13.5]\n",
    "split_3 = split_2.loc[split_2['RequiredCarParkingSpaces'] > 0.5]\n",
    "split_3['IsCanceled'].sum()"
   ]
  },
  {
   "cell_type": "code",
   "execution_count": 98,
   "metadata": {},
   "outputs": [
    {
     "data": {
      "text/plain": [
       "RandomForestClassifier()"
      ]
     },
     "execution_count": 98,
     "metadata": {},
     "output_type": "execute_result"
    }
   ],
   "source": [
    "# RandomForestClassifier\n",
    "from sklearn.ensemble import RandomForestClassifier as rf\n",
    "model = rf()\n",
    "model.fit(X_train, y_train)"
   ]
  },
  {
   "cell_type": "code",
   "execution_count": 99,
   "metadata": {},
   "outputs": [
    {
     "data": {
      "text/plain": [
       "<AxesSubplot:xlabel='predict', ylabel='actual'>"
      ]
     },
     "execution_count": 99,
     "metadata": {},
     "output_type": "execute_result"
    },
    {
     "data": {
      "image/png": "[encoded data removed]",
      "text/plain": [
       "<Figure size 432x288 with 1 Axes>"
      ]
     },
     "metadata": {
      "needs_background": "light"
     },
     "output_type": "display_data"
    }
   ],
   "source": [
    "import seaborn as sns\n",
    "for_plot = pd.DataFrame()\n",
    "for_plot['predict'] = model.predict(X_test)\n",
    "for_plot['actual'] = y_test\n",
    "sns.scatterplot(data=for_plot, x='predict', y='actual') # label values = [0,1] -> have to use confusion matrix"
   ]
  },
  {
   "cell_type": "markdown",
   "metadata": {},
   "source": [
    "##### Confusion Matrix"
   ]
  },
  {
   "cell_type": "code",
   "execution_count": 100,
   "metadata": {},
   "outputs": [
    {
     "name": "stdout",
     "output_type": "stream",
     "text": [
      "13615 823 2221 3371\n"
     ]
    }
   ],
   "source": [
    "from sklearn.metrics import confusion_matrix as cm\n",
    "cm_data = cm(for_plot['actual'], for_plot['predict'])\n",
    "TN, FP, FN, TP = cm_data.ravel()\n",
    "print(TN, FP, FN, TP)"
   ]
  },
  {
   "cell_type": "code",
   "execution_count": 101,
   "metadata": {},
   "outputs": [
    {
     "data": {
      "text/plain": [
       "0.8480279580629057"
      ]
     },
     "execution_count": 101,
     "metadata": {},
     "output_type": "execute_result"
    }
   ],
   "source": [
    "# accuracy\n",
    "acc = (TP + TN) / (TP + TN + FP + FN)\n",
    "acc  "
   ]
  },
  {
   "cell_type": "code",
   "execution_count": 102,
   "metadata": {},
   "outputs": [
    {
     "data": {
      "text/plain": [
       "0.8037672865999046"
      ]
     },
     "execution_count": 102,
     "metadata": {},
     "output_type": "execute_result"
    }
   ],
   "source": [
    "# percentage of positive predictions correct\n",
    "prec = TP / (TP + FP)\n",
    "prec"
   ]
  },
  {
   "cell_type": "code",
   "execution_count": 103,
   "metadata": {},
   "outputs": [
    {
     "data": {
      "text/plain": [
       "0.6028254649499285"
      ]
     },
     "execution_count": 103,
     "metadata": {},
     "output_type": "execute_result"
    }
   ],
   "source": [
    "# proportion of correct predicted values out of actual value 1(positive)\n",
    "recall = TP / (TP + FN)\n",
    "recall"
   ]
  },
  {
   "cell_type": "code",
   "execution_count": 105,
   "metadata": {},
   "outputs": [
    {
     "data": {
      "text/plain": [
       "0.05700235489680011"
      ]
     },
     "execution_count": 105,
     "metadata": {},
     "output_type": "execute_result"
    }
   ],
   "source": [
    "# proportion of incorrect predicted values out of actual value 0(negative)\n",
    "fall_out = FP / (FP + TN)\n",
    "fall_out"
   ]
  },
  {
   "cell_type": "code",
   "execution_count": 106,
   "metadata": {},
   "outputs": [
    {
     "name": "stdout",
     "output_type": "stream",
     "text": [
      "5530 14500\n"
     ]
    }
   ],
   "source": [
    "all_len = len(train)\n",
    "actual_1_count = train['IsCanceled'].sum()\n",
    "actual_0_count = all_len - actual_1_count\n",
    "print(actual_1_count, actual_0_count)"
   ]
  },
  {
   "cell_type": "code",
   "execution_count": null,
   "metadata": {},
   "outputs": [],
   "source": []
  },
  {
   "cell_type": "code",
   "execution_count": null,
   "metadata": {},
   "outputs": [],
   "source": []
  },
  {
   "cell_type": "code",
   "execution_count": null,
   "metadata": {},
   "outputs": [],
   "source": []
  }
 ],
 "metadata": {
  "kernelspec": {
   "display_name": "Python 3",
   "language": "python",
   "name": "python3"
  },
  "language_info": {
   "codemirror_mode": {
    "name": "ipython",
    "version": 3
   },
   "file_extension": ".py",
   "mimetype": "text/x-python",
   "name": "python",
   "nbconvert_exporter": "python",
   "pygments_lexer": "ipython3",
   "version": "3.7.4"
  }
 },
 "nbformat": 4,
 "nbformat_minor": 2
}
