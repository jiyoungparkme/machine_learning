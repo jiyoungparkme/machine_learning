{
 "cells": [
  {
   "cell_type": "markdown",
   "metadata": {},
   "source": [
    "# Anz Virtual Internship Report 2"
   ]
  },
  {
   "cell_type": "code",
   "execution_count": 1,
   "metadata": {},
   "outputs": [],
   "source": [
    "import pandas as pd\n",
    "import numpy as np\n",
    "import matplotlib.pyplot as plt\n",
    "import seaborn as sns\n",
    "import warnings\n",
    "import datetime\n",
    "\n",
    "warnings.filterwarnings(\"ignore\")\n",
    "%matplotlib inline"
   ]
  },
  {
   "cell_type": "markdown",
   "metadata": {},
   "source": [
    "### 1.1 load data"
   ]
  },
  {
   "cell_type": "code",
   "execution_count": 2,
   "metadata": {},
   "outputs": [
    {
     "name": "stdout",
     "output_type": "stream",
     "text": [
      "(12043, 23)\n"
     ]
    },
    {
     "data": {
      "text/html": [
       "<div>\n",
       "<style scoped>\n",
       "    .dataframe tbody tr th:only-of-type {\n",
       "        vertical-align: middle;\n",
       "    }\n",
       "\n",
       "    .dataframe tbody tr th {\n",
       "        vertical-align: top;\n",
       "    }\n",
       "\n",
       "    .dataframe thead th {\n",
       "        text-align: right;\n",
       "    }\n",
       "</style>\n",
       "<table border=\"1\" class=\"dataframe\">\n",
       "  <thead>\n",
       "    <tr style=\"text-align: right;\">\n",
       "      <th></th>\n",
       "      <th>status</th>\n",
       "      <th>card_present_flag</th>\n",
       "      <th>bpay_biller_code</th>\n",
       "      <th>account</th>\n",
       "      <th>currency</th>\n",
       "      <th>long_lat</th>\n",
       "      <th>txn_description</th>\n",
       "      <th>merchant_id</th>\n",
       "      <th>merchant_code</th>\n",
       "      <th>first_name</th>\n",
       "      <th>...</th>\n",
       "      <th>age</th>\n",
       "      <th>merchant_suburb</th>\n",
       "      <th>merchant_state</th>\n",
       "      <th>extraction</th>\n",
       "      <th>amount</th>\n",
       "      <th>transaction_id</th>\n",
       "      <th>country</th>\n",
       "      <th>customer_id</th>\n",
       "      <th>merchant_long_lat</th>\n",
       "      <th>movement</th>\n",
       "    </tr>\n",
       "  </thead>\n",
       "  <tbody>\n",
       "    <tr>\n",
       "      <th>0</th>\n",
       "      <td>authorized</td>\n",
       "      <td>1.0</td>\n",
       "      <td>NaN</td>\n",
       "      <td>ACC-1598451071</td>\n",
       "      <td>AUD</td>\n",
       "      <td>153.41 -27.95</td>\n",
       "      <td>POS</td>\n",
       "      <td>81c48296-73be-44a7-befa-d053f48ce7cd</td>\n",
       "      <td>NaN</td>\n",
       "      <td>Diana</td>\n",
       "      <td>...</td>\n",
       "      <td>26</td>\n",
       "      <td>Ashmore</td>\n",
       "      <td>QLD</td>\n",
       "      <td>2018-08-01T01:01:15.000+0000</td>\n",
       "      <td>16.25</td>\n",
       "      <td>a623070bfead4541a6b0fff8a09e706c</td>\n",
       "      <td>Australia</td>\n",
       "      <td>CUS-2487424745</td>\n",
       "      <td>153.38 -27.99</td>\n",
       "      <td>debit</td>\n",
       "    </tr>\n",
       "    <tr>\n",
       "      <th>1</th>\n",
       "      <td>authorized</td>\n",
       "      <td>0.0</td>\n",
       "      <td>NaN</td>\n",
       "      <td>ACC-1598451071</td>\n",
       "      <td>AUD</td>\n",
       "      <td>153.41 -27.95</td>\n",
       "      <td>SALES-POS</td>\n",
       "      <td>830a451c-316e-4a6a-bf25-e37caedca49e</td>\n",
       "      <td>NaN</td>\n",
       "      <td>Diana</td>\n",
       "      <td>...</td>\n",
       "      <td>26</td>\n",
       "      <td>Sydney</td>\n",
       "      <td>NSW</td>\n",
       "      <td>2018-08-01T01:13:45.000+0000</td>\n",
       "      <td>14.19</td>\n",
       "      <td>13270a2a902145da9db4c951e04b51b9</td>\n",
       "      <td>Australia</td>\n",
       "      <td>CUS-2487424745</td>\n",
       "      <td>151.21 -33.87</td>\n",
       "      <td>debit</td>\n",
       "    </tr>\n",
       "    <tr>\n",
       "      <th>2</th>\n",
       "      <td>authorized</td>\n",
       "      <td>1.0</td>\n",
       "      <td>NaN</td>\n",
       "      <td>ACC-1222300524</td>\n",
       "      <td>AUD</td>\n",
       "      <td>151.23 -33.94</td>\n",
       "      <td>POS</td>\n",
       "      <td>835c231d-8cdf-4e96-859d-e9d571760cf0</td>\n",
       "      <td>NaN</td>\n",
       "      <td>Michael</td>\n",
       "      <td>...</td>\n",
       "      <td>38</td>\n",
       "      <td>Sydney</td>\n",
       "      <td>NSW</td>\n",
       "      <td>2018-08-01T01:26:15.000+0000</td>\n",
       "      <td>6.42</td>\n",
       "      <td>feb79e7ecd7048a5a36ec889d1a94270</td>\n",
       "      <td>Australia</td>\n",
       "      <td>CUS-2142601169</td>\n",
       "      <td>151.21 -33.87</td>\n",
       "      <td>debit</td>\n",
       "    </tr>\n",
       "    <tr>\n",
       "      <th>3</th>\n",
       "      <td>authorized</td>\n",
       "      <td>1.0</td>\n",
       "      <td>NaN</td>\n",
       "      <td>ACC-1037050564</td>\n",
       "      <td>AUD</td>\n",
       "      <td>153.10 -27.66</td>\n",
       "      <td>SALES-POS</td>\n",
       "      <td>48514682-c78a-4a88-b0da-2d6302e64673</td>\n",
       "      <td>NaN</td>\n",
       "      <td>Rhonda</td>\n",
       "      <td>...</td>\n",
       "      <td>40</td>\n",
       "      <td>Buderim</td>\n",
       "      <td>QLD</td>\n",
       "      <td>2018-08-01T01:38:45.000+0000</td>\n",
       "      <td>40.90</td>\n",
       "      <td>2698170da3704fd981b15e64a006079e</td>\n",
       "      <td>Australia</td>\n",
       "      <td>CUS-1614226872</td>\n",
       "      <td>153.05 -26.68</td>\n",
       "      <td>debit</td>\n",
       "    </tr>\n",
       "    <tr>\n",
       "      <th>4</th>\n",
       "      <td>authorized</td>\n",
       "      <td>1.0</td>\n",
       "      <td>NaN</td>\n",
       "      <td>ACC-1598451071</td>\n",
       "      <td>AUD</td>\n",
       "      <td>153.41 -27.95</td>\n",
       "      <td>SALES-POS</td>\n",
       "      <td>b4e02c10-0852-4273-b8fd-7b3395e32eb0</td>\n",
       "      <td>NaN</td>\n",
       "      <td>Diana</td>\n",
       "      <td>...</td>\n",
       "      <td>26</td>\n",
       "      <td>Mermaid Beach</td>\n",
       "      <td>QLD</td>\n",
       "      <td>2018-08-01T01:51:15.000+0000</td>\n",
       "      <td>3.25</td>\n",
       "      <td>329adf79878c4cf0aeb4188b4691c266</td>\n",
       "      <td>Australia</td>\n",
       "      <td>CUS-2487424745</td>\n",
       "      <td>153.44 -28.06</td>\n",
       "      <td>debit</td>\n",
       "    </tr>\n",
       "  </tbody>\n",
       "</table>\n",
       "<p>5 rows × 23 columns</p>\n",
       "</div>"
      ],
      "text/plain": [
       "       status  card_present_flag bpay_biller_code         account currency  \\\n",
       "0  authorized                1.0              NaN  ACC-1598451071      AUD   \n",
       "1  authorized                0.0              NaN  ACC-1598451071      AUD   \n",
       "2  authorized                1.0              NaN  ACC-1222300524      AUD   \n",
       "3  authorized                1.0              NaN  ACC-1037050564      AUD   \n",
       "4  authorized                1.0              NaN  ACC-1598451071      AUD   \n",
       "\n",
       "        long_lat txn_description                           merchant_id  \\\n",
       "0  153.41 -27.95             POS  81c48296-73be-44a7-befa-d053f48ce7cd   \n",
       "1  153.41 -27.95       SALES-POS  830a451c-316e-4a6a-bf25-e37caedca49e   \n",
       "2  151.23 -33.94             POS  835c231d-8cdf-4e96-859d-e9d571760cf0   \n",
       "3  153.10 -27.66       SALES-POS  48514682-c78a-4a88-b0da-2d6302e64673   \n",
       "4  153.41 -27.95       SALES-POS  b4e02c10-0852-4273-b8fd-7b3395e32eb0   \n",
       "\n",
       "   merchant_code first_name  ...  age merchant_suburb merchant_state  \\\n",
       "0            NaN      Diana  ...   26         Ashmore            QLD   \n",
       "1            NaN      Diana  ...   26          Sydney            NSW   \n",
       "2            NaN    Michael  ...   38          Sydney            NSW   \n",
       "3            NaN     Rhonda  ...   40         Buderim            QLD   \n",
       "4            NaN      Diana  ...   26   Mermaid Beach            QLD   \n",
       "\n",
       "                     extraction amount                    transaction_id  \\\n",
       "0  2018-08-01T01:01:15.000+0000  16.25  a623070bfead4541a6b0fff8a09e706c   \n",
       "1  2018-08-01T01:13:45.000+0000  14.19  13270a2a902145da9db4c951e04b51b9   \n",
       "2  2018-08-01T01:26:15.000+0000   6.42  feb79e7ecd7048a5a36ec889d1a94270   \n",
       "3  2018-08-01T01:38:45.000+0000  40.90  2698170da3704fd981b15e64a006079e   \n",
       "4  2018-08-01T01:51:15.000+0000   3.25  329adf79878c4cf0aeb4188b4691c266   \n",
       "\n",
       "     country     customer_id merchant_long_lat movement  \n",
       "0  Australia  CUS-2487424745     153.38 -27.99    debit  \n",
       "1  Australia  CUS-2487424745     151.21 -33.87    debit  \n",
       "2  Australia  CUS-2142601169     151.21 -33.87    debit  \n",
       "3  Australia  CUS-1614226872     153.05 -26.68    debit  \n",
       "4  Australia  CUS-2487424745     153.44 -28.06    debit  \n",
       "\n",
       "[5 rows x 23 columns]"
      ]
     },
     "execution_count": 2,
     "metadata": {},
     "output_type": "execute_result"
    }
   ],
   "source": [
    "df = pd.read_excel(\"data/ANZ synthesised transaction dataset.xlsx\")\n",
    "print(df.shape)\n",
    "df.head()"
   ]
  },
  {
   "cell_type": "markdown",
   "metadata": {},
   "source": [
    "### 1.2 data preparation"
   ]
  },
  {
   "cell_type": "code",
   "execution_count": 3,
   "metadata": {},
   "outputs": [
    {
     "data": {
      "text/plain": [
       "Text(0.5, 1.0, 'Pay/Salary amount by age')"
      ]
     },
     "execution_count": 3,
     "metadata": {},
     "output_type": "execute_result"
    },
    {
     "data": {
      "image/png": "[encoded data removed]",
      "text/plain": [
       "<Figure size 432x288 with 1 Axes>"
      ]
     },
     "metadata": {
      "needs_background": "light"
     },
     "output_type": "display_data"
    }
   ],
   "source": [
    "sns.scatterplot(data=df, x='age', y=df.loc[df['txn_description']=='PAY/SALARY']['amount'],hue='gender').set_title(\"Pay/Salary amount by age\")"
   ]
  },
  {
   "cell_type": "code",
   "execution_count": 4,
   "metadata": {},
   "outputs": [
    {
     "data": {
      "text/plain": [
       "56"
      ]
     },
     "execution_count": 4,
     "metadata": {},
     "output_type": "execute_result"
    }
   ],
   "source": [
    "# Number of male\n",
    "len(df.loc[df['gender']==\"M\"]['customer_id'].unique())\n",
    "# female = 100 - 56 = 44"
   ]
  },
  {
   "cell_type": "markdown",
   "metadata": {},
   "source": [
    "##### Gender\n",
    "* male - 56\n",
    "* female - 44"
   ]
  },
  {
   "cell_type": "code",
   "execution_count": 5,
   "metadata": {},
   "outputs": [
    {
     "data": {
      "text/html": [
       "<div>\n",
       "<style scoped>\n",
       "    .dataframe tbody tr th:only-of-type {\n",
       "        vertical-align: middle;\n",
       "    }\n",
       "\n",
       "    .dataframe tbody tr th {\n",
       "        vertical-align: top;\n",
       "    }\n",
       "\n",
       "    .dataframe thead th {\n",
       "        text-align: right;\n",
       "    }\n",
       "</style>\n",
       "<table border=\"1\" class=\"dataframe\">\n",
       "  <thead>\n",
       "    <tr style=\"text-align: right;\">\n",
       "      <th></th>\n",
       "      <th>gender</th>\n",
       "      <th>gender_cat</th>\n",
       "    </tr>\n",
       "  </thead>\n",
       "  <tbody>\n",
       "    <tr>\n",
       "      <th>0</th>\n",
       "      <td>F</td>\n",
       "      <td>1</td>\n",
       "    </tr>\n",
       "    <tr>\n",
       "      <th>1</th>\n",
       "      <td>F</td>\n",
       "      <td>1</td>\n",
       "    </tr>\n",
       "    <tr>\n",
       "      <th>2</th>\n",
       "      <td>M</td>\n",
       "      <td>0</td>\n",
       "    </tr>\n",
       "    <tr>\n",
       "      <th>3</th>\n",
       "      <td>F</td>\n",
       "      <td>1</td>\n",
       "    </tr>\n",
       "    <tr>\n",
       "      <th>4</th>\n",
       "      <td>F</td>\n",
       "      <td>1</td>\n",
       "    </tr>\n",
       "  </tbody>\n",
       "</table>\n",
       "</div>"
      ],
      "text/plain": [
       "  gender  gender_cat\n",
       "0      F           1\n",
       "1      F           1\n",
       "2      M           0\n",
       "3      F           1\n",
       "4      F           1"
      ]
     },
     "execution_count": 5,
     "metadata": {},
     "output_type": "execute_result"
    }
   ],
   "source": [
    "# Make gender categorical column\n",
    "df['gender_cat'] = 0\n",
    "df.loc[df['gender']==\"F\", \"gender_cat\"] = 1\n",
    "interested = ['gender', 'gender_cat']\n",
    "df[interested].head()"
   ]
  },
  {
   "cell_type": "code",
   "execution_count": 6,
   "metadata": {},
   "outputs": [
    {
     "data": {
      "text/plain": [
       "array([20, 30, 40, 10, 70, 60, 50], dtype=int64)"
      ]
     },
     "execution_count": 6,
     "metadata": {},
     "output_type": "execute_result"
    }
   ],
   "source": [
    "# Make age_group column\n",
    "df['age_group'] = 70\n",
    "df.loc[df['age']<70, 'age_group'] = 60\n",
    "df.loc[df['age']<60, 'age_group'] = 50\n",
    "df.loc[df['age']<50, 'age_group'] = 40\n",
    "df.loc[df['age']<40, 'age_group'] = 30\n",
    "df.loc[df['age']<30, 'age_group'] = 20\n",
    "df.loc[df['age']<20, 'age_group'] = 10\n",
    "df.age_group.unique()"
   ]
  },
  {
   "cell_type": "code",
   "execution_count": 7,
   "metadata": {},
   "outputs": [
    {
     "data": {
      "text/html": [
       "<div>\n",
       "<style scoped>\n",
       "    .dataframe tbody tr th:only-of-type {\n",
       "        vertical-align: middle;\n",
       "    }\n",
       "\n",
       "    .dataframe tbody tr th {\n",
       "        vertical-align: top;\n",
       "    }\n",
       "\n",
       "    .dataframe thead tr th {\n",
       "        text-align: left;\n",
       "    }\n",
       "\n",
       "    .dataframe thead tr:last-of-type th {\n",
       "        text-align: right;\n",
       "    }\n",
       "</style>\n",
       "<table border=\"1\" class=\"dataframe\">\n",
       "  <thead>\n",
       "    <tr>\n",
       "      <th></th>\n",
       "      <th colspan=\"3\" halign=\"left\">amount</th>\n",
       "      <th colspan=\"3\" halign=\"left\">balance</th>\n",
       "    </tr>\n",
       "    <tr>\n",
       "      <th></th>\n",
       "      <th>count</th>\n",
       "      <th>mean</th>\n",
       "      <th>sum</th>\n",
       "      <th>count</th>\n",
       "      <th>mean</th>\n",
       "      <th>sum</th>\n",
       "    </tr>\n",
       "    <tr>\n",
       "      <th>age_group</th>\n",
       "      <th></th>\n",
       "      <th></th>\n",
       "      <th></th>\n",
       "      <th></th>\n",
       "      <th></th>\n",
       "      <th></th>\n",
       "    </tr>\n",
       "  </thead>\n",
       "  <tbody>\n",
       "    <tr>\n",
       "      <th>10</th>\n",
       "      <td>1135</td>\n",
       "      <td>198.411771</td>\n",
       "      <td>225197.36</td>\n",
       "      <td>1135</td>\n",
       "      <td>11276.002000</td>\n",
       "      <td>12798262.27</td>\n",
       "    </tr>\n",
       "    <tr>\n",
       "      <th>20</th>\n",
       "      <td>5337</td>\n",
       "      <td>162.143461</td>\n",
       "      <td>865359.65</td>\n",
       "      <td>5337</td>\n",
       "      <td>8581.355007</td>\n",
       "      <td>45798691.67</td>\n",
       "    </tr>\n",
       "    <tr>\n",
       "      <th>30</th>\n",
       "      <td>3200</td>\n",
       "      <td>195.986144</td>\n",
       "      <td>627155.66</td>\n",
       "      <td>3200</td>\n",
       "      <td>12140.798650</td>\n",
       "      <td>38850555.68</td>\n",
       "    </tr>\n",
       "    <tr>\n",
       "      <th>40</th>\n",
       "      <td>1953</td>\n",
       "      <td>227.047512</td>\n",
       "      <td>443423.79</td>\n",
       "      <td>1953</td>\n",
       "      <td>38263.701859</td>\n",
       "      <td>74729009.73</td>\n",
       "    </tr>\n",
       "    <tr>\n",
       "      <th>50</th>\n",
       "      <td>194</td>\n",
       "      <td>319.767268</td>\n",
       "      <td>62034.85</td>\n",
       "      <td>194</td>\n",
       "      <td>11220.341753</td>\n",
       "      <td>2176746.30</td>\n",
       "    </tr>\n",
       "    <tr>\n",
       "      <th>60</th>\n",
       "      <td>190</td>\n",
       "      <td>154.040211</td>\n",
       "      <td>29267.64</td>\n",
       "      <td>190</td>\n",
       "      <td>4658.839947</td>\n",
       "      <td>885179.59</td>\n",
       "    </tr>\n",
       "    <tr>\n",
       "      <th>70</th>\n",
       "      <td>34</td>\n",
       "      <td>318.977941</td>\n",
       "      <td>10845.25</td>\n",
       "      <td>34</td>\n",
       "      <td>54240.641471</td>\n",
       "      <td>1844181.81</td>\n",
       "    </tr>\n",
       "  </tbody>\n",
       "</table>\n",
       "</div>"
      ],
      "text/plain": [
       "          amount                        balance                           \n",
       "           count        mean        sum   count          mean          sum\n",
       "age_group                                                                 \n",
       "10          1135  198.411771  225197.36    1135  11276.002000  12798262.27\n",
       "20          5337  162.143461  865359.65    5337   8581.355007  45798691.67\n",
       "30          3200  195.986144  627155.66    3200  12140.798650  38850555.68\n",
       "40          1953  227.047512  443423.79    1953  38263.701859  74729009.73\n",
       "50           194  319.767268   62034.85     194  11220.341753   2176746.30\n",
       "60           190  154.040211   29267.64     190   4658.839947    885179.59\n",
       "70            34  318.977941   10845.25      34  54240.641471   1844181.81"
      ]
     },
     "execution_count": 7,
     "metadata": {},
     "output_type": "execute_result"
    }
   ],
   "source": [
    "group = ['customer_id', 'age_group', 'gender']\n",
    "interested = ['amount', 'balance']\n",
    "function = ['count','mean', 'sum']\n",
    "df.groupby('age_group').agg(function)[interested]"
   ]
  },
  {
   "cell_type": "code",
   "execution_count": 8,
   "metadata": {},
   "outputs": [],
   "source": [
    "df['month'] = df['date'].apply(lambda x: x.month)"
   ]
  },
  {
   "cell_type": "code",
   "execution_count": 9,
   "metadata": {},
   "outputs": [
    {
     "data": {
      "text/plain": [
       "20    116\n",
       "30     79\n",
       "40     55\n",
       "10     24\n",
       "60     10\n",
       "50     10\n",
       "70      4\n",
       "Name: age_group, dtype: int64"
      ]
     },
     "execution_count": 9,
     "metadata": {},
     "output_type": "execute_result"
    }
   ],
   "source": [
    "df.loc[df['txn_description']==\"PAY/SALARY\"].loc[df['month']==8]['age_group'].value_counts()"
   ]
  },
  {
   "cell_type": "code",
   "execution_count": 10,
   "metadata": {},
   "outputs": [
    {
     "data": {
      "text/plain": [
       "20    103\n",
       "30     72\n",
       "40     53\n",
       "10     24\n",
       "60      8\n",
       "50      8\n",
       "70      4\n",
       "Name: age_group, dtype: int64"
      ]
     },
     "execution_count": 10,
     "metadata": {},
     "output_type": "execute_result"
    }
   ],
   "source": [
    "df.loc[df['txn_description']==\"PAY/SALARY\"].loc[df['month']==9]['age_group'].value_counts()"
   ]
  },
  {
   "cell_type": "code",
   "execution_count": 11,
   "metadata": {},
   "outputs": [
    {
     "data": {
      "text/plain": [
       "20    117\n",
       "30     81\n",
       "40     63\n",
       "10     30\n",
       "60      9\n",
       "50      9\n",
       "70      4\n",
       "Name: age_group, dtype: int64"
      ]
     },
     "execution_count": 11,
     "metadata": {},
     "output_type": "execute_result"
    }
   ],
   "source": [
    "df.loc[df['txn_description']==\"PAY/SALARY\"].loc[df['month']==10]['age_group'].value_counts()"
   ]
  },
  {
   "cell_type": "code",
   "execution_count": 12,
   "metadata": {
    "scrolled": true
   },
   "outputs": [
    {
     "data": {
      "text/html": [
       "<div>\n",
       "<style scoped>\n",
       "    .dataframe tbody tr th:only-of-type {\n",
       "        vertical-align: middle;\n",
       "    }\n",
       "\n",
       "    .dataframe tbody tr th {\n",
       "        vertical-align: top;\n",
       "    }\n",
       "\n",
       "    .dataframe thead tr th {\n",
       "        text-align: left;\n",
       "    }\n",
       "</style>\n",
       "<table border=\"1\" class=\"dataframe\">\n",
       "  <thead>\n",
       "    <tr>\n",
       "      <th></th>\n",
       "      <th>customer_id</th>\n",
       "      <th colspan=\"3\" halign=\"left\">balance</th>\n",
       "      <th colspan=\"3\" halign=\"left\">age_group</th>\n",
       "      <th colspan=\"3\" halign=\"left\">amount</th>\n",
       "    </tr>\n",
       "    <tr>\n",
       "      <th></th>\n",
       "      <th></th>\n",
       "      <th>count</th>\n",
       "      <th>mean</th>\n",
       "      <th>sum</th>\n",
       "      <th>count</th>\n",
       "      <th>mean</th>\n",
       "      <th>sum</th>\n",
       "      <th>count</th>\n",
       "      <th>mean</th>\n",
       "      <th>sum</th>\n",
       "    </tr>\n",
       "  </thead>\n",
       "  <tbody>\n",
       "    <tr>\n",
       "      <th>0</th>\n",
       "      <td>CUS-1005756958</td>\n",
       "      <td>4</td>\n",
       "      <td>1590.795000</td>\n",
       "      <td>6363.18</td>\n",
       "      <td>4</td>\n",
       "      <td>50</td>\n",
       "      <td>200</td>\n",
       "      <td>4</td>\n",
       "      <td>970.47</td>\n",
       "      <td>3881.88</td>\n",
       "    </tr>\n",
       "    <tr>\n",
       "      <th>1</th>\n",
       "      <td>CUS-1117979751</td>\n",
       "      <td>2</td>\n",
       "      <td>7346.760000</td>\n",
       "      <td>14693.52</td>\n",
       "      <td>2</td>\n",
       "      <td>20</td>\n",
       "      <td>40</td>\n",
       "      <td>2</td>\n",
       "      <td>3578.65</td>\n",
       "      <td>7157.30</td>\n",
       "    </tr>\n",
       "    <tr>\n",
       "      <th>2</th>\n",
       "      <td>CUS-1140341822</td>\n",
       "      <td>2</td>\n",
       "      <td>3414.425000</td>\n",
       "      <td>6828.85</td>\n",
       "      <td>2</td>\n",
       "      <td>20</td>\n",
       "      <td>40</td>\n",
       "      <td>2</td>\n",
       "      <td>1916.51</td>\n",
       "      <td>3833.02</td>\n",
       "    </tr>\n",
       "    <tr>\n",
       "      <th>3</th>\n",
       "      <td>CUS-1147642491</td>\n",
       "      <td>4</td>\n",
       "      <td>3732.825000</td>\n",
       "      <td>14931.30</td>\n",
       "      <td>4</td>\n",
       "      <td>30</td>\n",
       "      <td>120</td>\n",
       "      <td>4</td>\n",
       "      <td>1711.39</td>\n",
       "      <td>6845.56</td>\n",
       "    </tr>\n",
       "    <tr>\n",
       "      <th>4</th>\n",
       "      <td>CUS-1196156254</td>\n",
       "      <td>3</td>\n",
       "      <td>19131.413333</td>\n",
       "      <td>57394.24</td>\n",
       "      <td>3</td>\n",
       "      <td>30</td>\n",
       "      <td>90</td>\n",
       "      <td>3</td>\n",
       "      <td>3903.73</td>\n",
       "      <td>11711.19</td>\n",
       "    </tr>\n",
       "  </tbody>\n",
       "</table>\n",
       "</div>"
      ],
      "text/plain": [
       "      customer_id balance                         age_group           amount  \\\n",
       "                    count          mean       sum     count mean  sum  count   \n",
       "0  CUS-1005756958       4   1590.795000   6363.18         4   50  200      4   \n",
       "1  CUS-1117979751       2   7346.760000  14693.52         2   20   40      2   \n",
       "2  CUS-1140341822       2   3414.425000   6828.85         2   20   40      2   \n",
       "3  CUS-1147642491       4   3732.825000  14931.30         4   30  120      4   \n",
       "4  CUS-1196156254       3  19131.413333  57394.24         3   30   90      3   \n",
       "\n",
       "                      \n",
       "      mean       sum  \n",
       "0   970.47   3881.88  \n",
       "1  3578.65   7157.30  \n",
       "2  1916.51   3833.02  \n",
       "3  1711.39   6845.56  \n",
       "4  3903.73  11711.19  "
      ]
     },
     "execution_count": 12,
     "metadata": {},
     "output_type": "execute_result"
    }
   ],
   "source": [
    "function = ['count', 'mean', 'sum']\n",
    "interested = ['balance', 'age_group', 'amount']\n",
    "df_PS_8 = df.loc[df['txn_description']==\"PAY/SALARY\"].loc[df['month']==8]\n",
    "df_PS_8 = df_PS_8.groupby(\"customer_id\").agg(function)[interested].reset_index()\n",
    "\n",
    "df_PS_9 = df.loc[df['txn_description']==\"PAY/SALARY\"].loc[df['month']==9]\n",
    "df_PS_9 = df_PS_9.groupby(\"customer_id\").agg(function)[interested].reset_index()\n",
    "\n",
    "df_PS_10 = df.loc[df['txn_description']==\"PAY/SALARY\"].loc[df['month']==10]\n",
    "df_PS_10 = df_PS_10.groupby(\"customer_id\").agg(function)[interested].reset_index()\n",
    "\n",
    "df_PS_8.head()"
   ]
  },
  {
   "cell_type": "code",
   "execution_count": 13,
   "metadata": {},
   "outputs": [],
   "source": [
    "c_all = set(df['customer_id'].unique())\n",
    "c_8 = set(df_PS_8['customer_id'].unique())\n",
    "c_9 = set(df_PS_9['customer_id'].unique())\n",
    "c_10 = set(df_PS_10['customer_id'].unique())"
   ]
  },
  {
   "cell_type": "code",
   "execution_count": 14,
   "metadata": {},
   "outputs": [
    {
     "name": "stdout",
     "output_type": "stream",
     "text": [
      "{'CUS-2178051368', 'CUS-1739931018'}\n",
      "{'CUS-497688347'}\n",
      "{'CUS-51506836'}\n"
     ]
    }
   ],
   "source": [
    "# Customers without pay/salary\n",
    "print(c_all - c_8) # 20s\n",
    "print(c_all - c_9) # 30s\n",
    "print(c_all - c_10) # 20s"
   ]
  },
  {
   "cell_type": "code",
   "execution_count": 15,
   "metadata": {},
   "outputs": [
    {
     "data": {
      "text/plain": [
       "20    38\n",
       "30    25\n",
       "40    19\n",
       "10    10\n",
       "50     3\n",
       "60     2\n",
       "70     1\n",
       "Name: mean, dtype: int64"
      ]
     },
     "execution_count": 15,
     "metadata": {},
     "output_type": "execute_result"
    }
   ],
   "source": [
    "# Number of customer by age in August\n",
    "df_PS_8['age_group']['mean'].value_counts()"
   ]
  },
  {
   "cell_type": "code",
   "execution_count": 16,
   "metadata": {},
   "outputs": [
    {
     "data": {
      "text/plain": [
       "20    40\n",
       "30    24\n",
       "40    19\n",
       "10    10\n",
       "50     3\n",
       "60     2\n",
       "70     1\n",
       "Name: mean, dtype: int64"
      ]
     },
     "execution_count": 16,
     "metadata": {},
     "output_type": "execute_result"
    }
   ],
   "source": [
    "# Number of customer by age in September\n",
    "df_PS_9['age_group']['mean'].value_counts()"
   ]
  },
  {
   "cell_type": "code",
   "execution_count": 17,
   "metadata": {},
   "outputs": [
    {
     "data": {
      "text/plain": [
       "20    39\n",
       "30    25\n",
       "40    19\n",
       "10    10\n",
       "50     3\n",
       "60     2\n",
       "70     1\n",
       "Name: mean, dtype: int64"
      ]
     },
     "execution_count": 17,
     "metadata": {},
     "output_type": "execute_result"
    }
   ],
   "source": [
    "# Number of customer by age in October\n",
    "df_PS_10['age_group']['mean'].value_counts()"
   ]
  },
  {
   "cell_type": "code",
   "execution_count": 18,
   "metadata": {},
   "outputs": [
    {
     "data": {
      "text/html": [
       "<div>\n",
       "<style scoped>\n",
       "    .dataframe tbody tr th:only-of-type {\n",
       "        vertical-align: middle;\n",
       "    }\n",
       "\n",
       "    .dataframe tbody tr th {\n",
       "        vertical-align: top;\n",
       "    }\n",
       "\n",
       "    .dataframe thead th {\n",
       "        text-align: right;\n",
       "    }\n",
       "</style>\n",
       "<table border=\"1\" class=\"dataframe\">\n",
       "  <thead>\n",
       "    <tr style=\"text-align: right;\">\n",
       "      <th></th>\n",
       "      <th>customer_id</th>\n",
       "      <th>age_group</th>\n",
       "      <th>gender_cat</th>\n",
       "      <th>count</th>\n",
       "      <th>mean_amount</th>\n",
       "      <th>total_amount(3 month)</th>\n",
       "      <th>annual_total_salary</th>\n",
       "    </tr>\n",
       "  </thead>\n",
       "  <tbody>\n",
       "    <tr>\n",
       "      <th>0</th>\n",
       "      <td>CUS-1005756958</td>\n",
       "      <td>50</td>\n",
       "      <td>1</td>\n",
       "      <td>13</td>\n",
       "      <td>970.47</td>\n",
       "      <td>12616.11</td>\n",
       "      <td>50464.44</td>\n",
       "    </tr>\n",
       "    <tr>\n",
       "      <th>1</th>\n",
       "      <td>CUS-1117979751</td>\n",
       "      <td>20</td>\n",
       "      <td>0</td>\n",
       "      <td>7</td>\n",
       "      <td>3578.65</td>\n",
       "      <td>25050.55</td>\n",
       "      <td>100202.20</td>\n",
       "    </tr>\n",
       "    <tr>\n",
       "      <th>2</th>\n",
       "      <td>CUS-1140341822</td>\n",
       "      <td>20</td>\n",
       "      <td>0</td>\n",
       "      <td>6</td>\n",
       "      <td>1916.51</td>\n",
       "      <td>11499.06</td>\n",
       "      <td>45996.24</td>\n",
       "    </tr>\n",
       "    <tr>\n",
       "      <th>3</th>\n",
       "      <td>CUS-1147642491</td>\n",
       "      <td>30</td>\n",
       "      <td>1</td>\n",
       "      <td>13</td>\n",
       "      <td>1711.39</td>\n",
       "      <td>22248.07</td>\n",
       "      <td>88992.28</td>\n",
       "    </tr>\n",
       "    <tr>\n",
       "      <th>4</th>\n",
       "      <td>CUS-1196156254</td>\n",
       "      <td>30</td>\n",
       "      <td>1</td>\n",
       "      <td>7</td>\n",
       "      <td>3903.73</td>\n",
       "      <td>27326.11</td>\n",
       "      <td>109304.44</td>\n",
       "    </tr>\n",
       "    <tr>\n",
       "      <th>...</th>\n",
       "      <td>...</td>\n",
       "      <td>...</td>\n",
       "      <td>...</td>\n",
       "      <td>...</td>\n",
       "      <td>...</td>\n",
       "      <td>...</td>\n",
       "      <td>...</td>\n",
       "    </tr>\n",
       "    <tr>\n",
       "      <th>95</th>\n",
       "      <td>CUS-72755508</td>\n",
       "      <td>30</td>\n",
       "      <td>1</td>\n",
       "      <td>12</td>\n",
       "      <td>725.32</td>\n",
       "      <td>8703.84</td>\n",
       "      <td>34815.36</td>\n",
       "    </tr>\n",
       "    <tr>\n",
       "      <th>96</th>\n",
       "      <td>CUS-809013380</td>\n",
       "      <td>20</td>\n",
       "      <td>1</td>\n",
       "      <td>13</td>\n",
       "      <td>1037.07</td>\n",
       "      <td>13481.91</td>\n",
       "      <td>53927.64</td>\n",
       "    </tr>\n",
       "    <tr>\n",
       "      <th>97</th>\n",
       "      <td>CUS-860700529</td>\n",
       "      <td>30</td>\n",
       "      <td>0</td>\n",
       "      <td>6</td>\n",
       "      <td>1808.62</td>\n",
       "      <td>10851.72</td>\n",
       "      <td>43406.88</td>\n",
       "    </tr>\n",
       "    <tr>\n",
       "      <th>98</th>\n",
       "      <td>CUS-880898248</td>\n",
       "      <td>20</td>\n",
       "      <td>0</td>\n",
       "      <td>6</td>\n",
       "      <td>1433.98</td>\n",
       "      <td>8603.88</td>\n",
       "      <td>34415.52</td>\n",
       "    </tr>\n",
       "    <tr>\n",
       "      <th>99</th>\n",
       "      <td>CUS-883482547</td>\n",
       "      <td>10</td>\n",
       "      <td>1</td>\n",
       "      <td>7</td>\n",
       "      <td>3977.46</td>\n",
       "      <td>27842.22</td>\n",
       "      <td>111368.88</td>\n",
       "    </tr>\n",
       "  </tbody>\n",
       "</table>\n",
       "<p>100 rows × 7 columns</p>\n",
       "</div>"
      ],
      "text/plain": [
       "       customer_id  age_group  gender_cat  count  mean_amount  \\\n",
       "0   CUS-1005756958         50           1     13       970.47   \n",
       "1   CUS-1117979751         20           0      7      3578.65   \n",
       "2   CUS-1140341822         20           0      6      1916.51   \n",
       "3   CUS-1147642491         30           1     13      1711.39   \n",
       "4   CUS-1196156254         30           1      7      3903.73   \n",
       "..             ...        ...         ...    ...          ...   \n",
       "95    CUS-72755508         30           1     12       725.32   \n",
       "96   CUS-809013380         20           1     13      1037.07   \n",
       "97   CUS-860700529         30           0      6      1808.62   \n",
       "98   CUS-880898248         20           0      6      1433.98   \n",
       "99   CUS-883482547         10           1      7      3977.46   \n",
       "\n",
       "    total_amount(3 month)  annual_total_salary  \n",
       "0                12616.11             50464.44  \n",
       "1                25050.55            100202.20  \n",
       "2                11499.06             45996.24  \n",
       "3                22248.07             88992.28  \n",
       "4                27326.11            109304.44  \n",
       "..                    ...                  ...  \n",
       "95                8703.84             34815.36  \n",
       "96               13481.91             53927.64  \n",
       "97               10851.72             43406.88  \n",
       "98                8603.88             34415.52  \n",
       "99               27842.22            111368.88  \n",
       "\n",
       "[100 rows x 7 columns]"
      ]
     },
     "execution_count": 18,
     "metadata": {},
     "output_type": "execute_result"
    }
   ],
   "source": [
    "function = ['count', 'mean', 'sum']\n",
    "interested = ['customer_id','age_group', 'gender_cat']\n",
    "df_temp = df.loc[df['txn_description']==\"PAY/SALARY\"]\n",
    "df_temp = df_temp.groupby(interested)['amount'].agg(function).reset_index()\n",
    "df_temp.columns = ['customer_id', 'age_group', 'gender_cat', 'count', 'mean_amount', 'total_amount(3 month)']\n",
    "df_temp['annual_total_salary'] = df_temp['total_amount(3 month)']*4\n",
    "df_temp"
   ]
  },
  {
   "cell_type": "code",
   "execution_count": 19,
   "metadata": {},
   "outputs": [
    {
     "data": {
      "text/html": [
       "<div>\n",
       "<style scoped>\n",
       "    .dataframe tbody tr th:only-of-type {\n",
       "        vertical-align: middle;\n",
       "    }\n",
       "\n",
       "    .dataframe tbody tr th {\n",
       "        vertical-align: top;\n",
       "    }\n",
       "\n",
       "    .dataframe thead th {\n",
       "        text-align: right;\n",
       "    }\n",
       "</style>\n",
       "<table border=\"1\" class=\"dataframe\">\n",
       "  <thead>\n",
       "    <tr style=\"text-align: right;\">\n",
       "      <th></th>\n",
       "      <th>age_group</th>\n",
       "      <th>annual_total_salary</th>\n",
       "    </tr>\n",
       "  </thead>\n",
       "  <tbody>\n",
       "    <tr>\n",
       "      <th>0</th>\n",
       "      <td>10</td>\n",
       "      <td>70219.232000</td>\n",
       "    </tr>\n",
       "    <tr>\n",
       "      <th>1</th>\n",
       "      <td>20</td>\n",
       "      <td>63519.839000</td>\n",
       "    </tr>\n",
       "    <tr>\n",
       "      <th>2</th>\n",
       "      <td>30</td>\n",
       "      <td>71945.728000</td>\n",
       "    </tr>\n",
       "    <tr>\n",
       "      <th>3</th>\n",
       "      <td>40</td>\n",
       "      <td>70634.406316</td>\n",
       "    </tr>\n",
       "    <tr>\n",
       "      <th>4</th>\n",
       "      <td>50</td>\n",
       "      <td>65567.240000</td>\n",
       "    </tr>\n",
       "    <tr>\n",
       "      <th>5</th>\n",
       "      <td>60</td>\n",
       "      <td>44183.360000</td>\n",
       "    </tr>\n",
       "    <tr>\n",
       "      <th>6</th>\n",
       "      <td>70</td>\n",
       "      <td>37556.160000</td>\n",
       "    </tr>\n",
       "  </tbody>\n",
       "</table>\n",
       "</div>"
      ],
      "text/plain": [
       "   age_group  annual_total_salary\n",
       "0         10         70219.232000\n",
       "1         20         63519.839000\n",
       "2         30         71945.728000\n",
       "3         40         70634.406316\n",
       "4         50         65567.240000\n",
       "5         60         44183.360000\n",
       "6         70         37556.160000"
      ]
     },
     "execution_count": 19,
     "metadata": {},
     "output_type": "execute_result"
    }
   ],
   "source": [
    "for_plot= df_temp.groupby('age_group')['annual_total_salary'].mean().reset_index()\n",
    "for_plot"
   ]
  },
  {
   "cell_type": "code",
   "execution_count": 20,
   "metadata": {},
   "outputs": [
    {
     "data": {
      "text/plain": [
       "Text(0.5, 1.0, 'Average pay/salary amount by age group')"
      ]
     },
     "execution_count": 20,
     "metadata": {},
     "output_type": "execute_result"
    },
    {
     "data": {
      "image/png": "[encoded data removed]",
      "text/plain": [
       "<Figure size 432x288 with 1 Axes>"
      ]
     },
     "metadata": {
      "needs_background": "light"
     },
     "output_type": "display_data"
    }
   ],
   "source": [
    "sns.barplot(data=for_plot, x='age_group', y='annual_total_salary').set_title(\"Average pay/salary amount by age group\")"
   ]
  },
  {
   "cell_type": "markdown",
   "metadata": {},
   "source": [
    "##### 30,40 has highest anuual salary"
   ]
  },
  {
   "cell_type": "code",
   "execution_count": 21,
   "metadata": {},
   "outputs": [
    {
     "data": {
      "text/html": [
       "<div>\n",
       "<style scoped>\n",
       "    .dataframe tbody tr th:only-of-type {\n",
       "        vertical-align: middle;\n",
       "    }\n",
       "\n",
       "    .dataframe tbody tr th {\n",
       "        vertical-align: top;\n",
       "    }\n",
       "\n",
       "    .dataframe thead th {\n",
       "        text-align: right;\n",
       "    }\n",
       "</style>\n",
       "<table border=\"1\" class=\"dataframe\">\n",
       "  <thead>\n",
       "    <tr style=\"text-align: right;\">\n",
       "      <th></th>\n",
       "      <th>status</th>\n",
       "      <th>card_present_flag</th>\n",
       "      <th>bpay_biller_code</th>\n",
       "      <th>account</th>\n",
       "      <th>currency</th>\n",
       "      <th>long_lat</th>\n",
       "      <th>txn_description</th>\n",
       "      <th>merchant_id</th>\n",
       "      <th>merchant_code</th>\n",
       "      <th>first_name</th>\n",
       "      <th>...</th>\n",
       "      <th>amount</th>\n",
       "      <th>transaction_id</th>\n",
       "      <th>country</th>\n",
       "      <th>customer_id</th>\n",
       "      <th>merchant_long_lat</th>\n",
       "      <th>movement</th>\n",
       "      <th>gender_cat</th>\n",
       "      <th>age_group</th>\n",
       "      <th>month</th>\n",
       "      <th>annual_amount</th>\n",
       "    </tr>\n",
       "  </thead>\n",
       "  <tbody>\n",
       "    <tr>\n",
       "      <th>0</th>\n",
       "      <td>authorized</td>\n",
       "      <td>1.0</td>\n",
       "      <td>NaN</td>\n",
       "      <td>ACC-1598451071</td>\n",
       "      <td>AUD</td>\n",
       "      <td>153.41 -27.95</td>\n",
       "      <td>POS</td>\n",
       "      <td>81c48296-73be-44a7-befa-d053f48ce7cd</td>\n",
       "      <td>NaN</td>\n",
       "      <td>Diana</td>\n",
       "      <td>...</td>\n",
       "      <td>16.25</td>\n",
       "      <td>a623070bfead4541a6b0fff8a09e706c</td>\n",
       "      <td>Australia</td>\n",
       "      <td>CUS-2487424745</td>\n",
       "      <td>153.38 -27.99</td>\n",
       "      <td>debit</td>\n",
       "      <td>1</td>\n",
       "      <td>20</td>\n",
       "      <td>8</td>\n",
       "      <td>0.0</td>\n",
       "    </tr>\n",
       "    <tr>\n",
       "      <th>1</th>\n",
       "      <td>authorized</td>\n",
       "      <td>0.0</td>\n",
       "      <td>NaN</td>\n",
       "      <td>ACC-1598451071</td>\n",
       "      <td>AUD</td>\n",
       "      <td>153.41 -27.95</td>\n",
       "      <td>SALES-POS</td>\n",
       "      <td>830a451c-316e-4a6a-bf25-e37caedca49e</td>\n",
       "      <td>NaN</td>\n",
       "      <td>Diana</td>\n",
       "      <td>...</td>\n",
       "      <td>14.19</td>\n",
       "      <td>13270a2a902145da9db4c951e04b51b9</td>\n",
       "      <td>Australia</td>\n",
       "      <td>CUS-2487424745</td>\n",
       "      <td>151.21 -33.87</td>\n",
       "      <td>debit</td>\n",
       "      <td>1</td>\n",
       "      <td>20</td>\n",
       "      <td>8</td>\n",
       "      <td>0.0</td>\n",
       "    </tr>\n",
       "    <tr>\n",
       "      <th>2</th>\n",
       "      <td>authorized</td>\n",
       "      <td>1.0</td>\n",
       "      <td>NaN</td>\n",
       "      <td>ACC-1222300524</td>\n",
       "      <td>AUD</td>\n",
       "      <td>151.23 -33.94</td>\n",
       "      <td>POS</td>\n",
       "      <td>835c231d-8cdf-4e96-859d-e9d571760cf0</td>\n",
       "      <td>NaN</td>\n",
       "      <td>Michael</td>\n",
       "      <td>...</td>\n",
       "      <td>6.42</td>\n",
       "      <td>feb79e7ecd7048a5a36ec889d1a94270</td>\n",
       "      <td>Australia</td>\n",
       "      <td>CUS-2142601169</td>\n",
       "      <td>151.21 -33.87</td>\n",
       "      <td>debit</td>\n",
       "      <td>0</td>\n",
       "      <td>30</td>\n",
       "      <td>8</td>\n",
       "      <td>0.0</td>\n",
       "    </tr>\n",
       "    <tr>\n",
       "      <th>3</th>\n",
       "      <td>authorized</td>\n",
       "      <td>1.0</td>\n",
       "      <td>NaN</td>\n",
       "      <td>ACC-1037050564</td>\n",
       "      <td>AUD</td>\n",
       "      <td>153.10 -27.66</td>\n",
       "      <td>SALES-POS</td>\n",
       "      <td>48514682-c78a-4a88-b0da-2d6302e64673</td>\n",
       "      <td>NaN</td>\n",
       "      <td>Rhonda</td>\n",
       "      <td>...</td>\n",
       "      <td>40.90</td>\n",
       "      <td>2698170da3704fd981b15e64a006079e</td>\n",
       "      <td>Australia</td>\n",
       "      <td>CUS-1614226872</td>\n",
       "      <td>153.05 -26.68</td>\n",
       "      <td>debit</td>\n",
       "      <td>1</td>\n",
       "      <td>40</td>\n",
       "      <td>8</td>\n",
       "      <td>0.0</td>\n",
       "    </tr>\n",
       "    <tr>\n",
       "      <th>4</th>\n",
       "      <td>authorized</td>\n",
       "      <td>1.0</td>\n",
       "      <td>NaN</td>\n",
       "      <td>ACC-1598451071</td>\n",
       "      <td>AUD</td>\n",
       "      <td>153.41 -27.95</td>\n",
       "      <td>SALES-POS</td>\n",
       "      <td>b4e02c10-0852-4273-b8fd-7b3395e32eb0</td>\n",
       "      <td>NaN</td>\n",
       "      <td>Diana</td>\n",
       "      <td>...</td>\n",
       "      <td>3.25</td>\n",
       "      <td>329adf79878c4cf0aeb4188b4691c266</td>\n",
       "      <td>Australia</td>\n",
       "      <td>CUS-2487424745</td>\n",
       "      <td>153.44 -28.06</td>\n",
       "      <td>debit</td>\n",
       "      <td>1</td>\n",
       "      <td>20</td>\n",
       "      <td>8</td>\n",
       "      <td>0.0</td>\n",
       "    </tr>\n",
       "  </tbody>\n",
       "</table>\n",
       "<p>5 rows × 27 columns</p>\n",
       "</div>"
      ],
      "text/plain": [
       "       status  card_present_flag bpay_biller_code         account currency  \\\n",
       "0  authorized                1.0              NaN  ACC-1598451071      AUD   \n",
       "1  authorized                0.0              NaN  ACC-1598451071      AUD   \n",
       "2  authorized                1.0              NaN  ACC-1222300524      AUD   \n",
       "3  authorized                1.0              NaN  ACC-1037050564      AUD   \n",
       "4  authorized                1.0              NaN  ACC-1598451071      AUD   \n",
       "\n",
       "        long_lat txn_description                           merchant_id  \\\n",
       "0  153.41 -27.95             POS  81c48296-73be-44a7-befa-d053f48ce7cd   \n",
       "1  153.41 -27.95       SALES-POS  830a451c-316e-4a6a-bf25-e37caedca49e   \n",
       "2  151.23 -33.94             POS  835c231d-8cdf-4e96-859d-e9d571760cf0   \n",
       "3  153.10 -27.66       SALES-POS  48514682-c78a-4a88-b0da-2d6302e64673   \n",
       "4  153.41 -27.95       SALES-POS  b4e02c10-0852-4273-b8fd-7b3395e32eb0   \n",
       "\n",
       "   merchant_code first_name  ...  amount                    transaction_id  \\\n",
       "0            NaN      Diana  ...   16.25  a623070bfead4541a6b0fff8a09e706c   \n",
       "1            NaN      Diana  ...   14.19  13270a2a902145da9db4c951e04b51b9   \n",
       "2            NaN    Michael  ...    6.42  feb79e7ecd7048a5a36ec889d1a94270   \n",
       "3            NaN     Rhonda  ...   40.90  2698170da3704fd981b15e64a006079e   \n",
       "4            NaN      Diana  ...    3.25  329adf79878c4cf0aeb4188b4691c266   \n",
       "\n",
       "     country     customer_id merchant_long_lat movement gender_cat  age_group  \\\n",
       "0  Australia  CUS-2487424745     153.38 -27.99    debit          1         20   \n",
       "1  Australia  CUS-2487424745     151.21 -33.87    debit          1         20   \n",
       "2  Australia  CUS-2142601169     151.21 -33.87    debit          0         30   \n",
       "3  Australia  CUS-1614226872     153.05 -26.68    debit          1         40   \n",
       "4  Australia  CUS-2487424745     153.44 -28.06    debit          1         20   \n",
       "\n",
       "  month annual_amount  \n",
       "0     8           0.0  \n",
       "1     8           0.0  \n",
       "2     8           0.0  \n",
       "3     8           0.0  \n",
       "4     8           0.0  \n",
       "\n",
       "[5 rows x 27 columns]"
      ]
     },
     "execution_count": 21,
     "metadata": {},
     "output_type": "execute_result"
    }
   ],
   "source": [
    "df['annual_amount'] = df['amount']*4\n",
    "df.loc[df['txn_description']!=\"PAY/SALARY\", 'annual_amount'] = 0\n",
    "df.head()"
   ]
  },
  {
   "cell_type": "code",
   "execution_count": 22,
   "metadata": {},
   "outputs": [
    {
     "data": {
      "text/plain": [
       "Text(0.5, 1.0, 'Annual Pay/Salary amount by age')"
      ]
     },
     "execution_count": 22,
     "metadata": {},
     "output_type": "execute_result"
    },
    {
     "data": {
      "image/png": "[encoded data removed]",
      "text/plain": [
       "<Figure size 432x288 with 1 Axes>"
      ]
     },
     "metadata": {
      "needs_background": "light"
     },
     "output_type": "display_data"
    }
   ],
   "source": [
    "sns.scatterplot(data=df, x='age', y=df.loc[df['txn_description']=='PAY/SALARY']['annual_amount'],hue='gender').set_title(\"Annual Pay/Salary amount by age\")"
   ]
  },
  {
   "cell_type": "code",
   "execution_count": 25,
   "metadata": {
    "scrolled": true
   },
   "outputs": [
    {
     "data": {
      "text/html": [
       "<div>\n",
       "<style scoped>\n",
       "    .dataframe tbody tr th:only-of-type {\n",
       "        vertical-align: middle;\n",
       "    }\n",
       "\n",
       "    .dataframe tbody tr th {\n",
       "        vertical-align: top;\n",
       "    }\n",
       "\n",
       "    .dataframe thead th {\n",
       "        text-align: right;\n",
       "    }\n",
       "</style>\n",
       "<table border=\"1\" class=\"dataframe\">\n",
       "  <thead>\n",
       "    <tr style=\"text-align: right;\">\n",
       "      <th></th>\n",
       "      <th>gender</th>\n",
       "      <th>annual_amount</th>\n",
       "      <th>annual_salary/person</th>\n",
       "    </tr>\n",
       "  </thead>\n",
       "  <tbody>\n",
       "    <tr>\n",
       "      <th>0</th>\n",
       "      <td>F</td>\n",
       "      <td>2814624.92</td>\n",
       "      <td>63968.748182</td>\n",
       "    </tr>\n",
       "    <tr>\n",
       "      <th>1</th>\n",
       "      <td>M</td>\n",
       "      <td>3891682.48</td>\n",
       "      <td>69494.330000</td>\n",
       "    </tr>\n",
       "  </tbody>\n",
       "</table>\n",
       "</div>"
      ],
      "text/plain": [
       "  gender  annual_amount  annual_salary/person\n",
       "0      F     2814624.92          63968.748182\n",
       "1      M     3891682.48          69494.330000"
      ]
     },
     "execution_count": 25,
     "metadata": {},
     "output_type": "execute_result"
    }
   ],
   "source": [
    "interested = ['gender']\n",
    "cal = df.groupby(interested)['annual_amount'].sum().reset_index()\n",
    "cal['annual_salary/person'] = cal['annual_amount']/44 # number of female\n",
    "cal.loc[cal['gender']=='M', 'annual_salary/person'] = cal['annual_amount']/56 # number of male\n",
    "cal"
   ]
  },
  {
   "cell_type": "markdown",
   "metadata": {},
   "source": [
    "##### Male's annual salary is higher than Female's annual salary"
   ]
  },
  {
   "cell_type": "markdown",
   "metadata": {},
   "source": [
    "### 1.3 model planning"
   ]
  },
  {
   "cell_type": "markdown",
   "metadata": {},
   "source": [
    "#### 1.3.1 train/test split"
   ]
  },
  {
   "cell_type": "code",
   "execution_count": 70,
   "metadata": {
    "scrolled": true
   },
   "outputs": [
    {
     "name": "stdout",
     "output_type": "stream",
     "text": [
      "<class 'pandas.core.frame.DataFrame'>\n",
      "RangeIndex: 12043 entries, 0 to 12042\n",
      "Data columns (total 32 columns):\n",
      " #   Column             Non-Null Count  Dtype         \n",
      "---  ------             --------------  -----         \n",
      " 0   status             12043 non-null  object        \n",
      " 1   card_present_flag  7717 non-null   float64       \n",
      " 2   bpay_biller_code   885 non-null    object        \n",
      " 3   account            12043 non-null  object        \n",
      " 4   currency           12043 non-null  object        \n",
      " 5   long_lat           12043 non-null  object        \n",
      " 6   txn_description    12043 non-null  object        \n",
      " 7   merchant_id        7717 non-null   object        \n",
      " 8   merchant_code      883 non-null    float64       \n",
      " 9   first_name         12043 non-null  object        \n",
      " 10  balance            12043 non-null  float64       \n",
      " 11  date               12043 non-null  datetime64[ns]\n",
      " 12  gender             12043 non-null  object        \n",
      " 13  age                12043 non-null  int64         \n",
      " 14  merchant_suburb    7717 non-null   object        \n",
      " 15  merchant_state     7717 non-null   object        \n",
      " 16  extraction         12043 non-null  object        \n",
      " 17  amount             12043 non-null  float64       \n",
      " 18  transaction_id     12043 non-null  object        \n",
      " 19  country            12043 non-null  object        \n",
      " 20  customer_id        12043 non-null  object        \n",
      " 21  merchant_long_lat  7717 non-null   object        \n",
      " 22  movement           12043 non-null  object        \n",
      " 23  gender_cat         12043 non-null  int64         \n",
      " 24  age_group          12043 non-null  int64         \n",
      " 25  month              12043 non-null  int64         \n",
      " 26  annual_amount      12043 non-null  float64       \n",
      " 27  status_cat         12043 non-null  int8          \n",
      " 28  txn_cat            12043 non-null  int8          \n",
      " 29  movement_cat       12043 non-null  int8          \n",
      " 30  hour               12043 non-null  int64         \n",
      " 31  m_state_cat        12043 non-null  int8          \n",
      "dtypes: datetime64[ns](1), float64(5), int64(5), int8(4), object(17)\n",
      "memory usage: 2.6+ MB\n"
     ]
    }
   ],
   "source": [
    "df.info()"
   ]
  },
  {
   "cell_type": "code",
   "execution_count": 60,
   "metadata": {},
   "outputs": [],
   "source": [
    "df['status_cat'] = df['status'].astype('category').cat.codes\n",
    "df['txn_cat'] = df['txn_description'].astype('category').cat.codes\n",
    "df['movement_cat'] = df['movement'].astype('category').cat.codes\n",
    "df['hour'] = pd.to_datetime(df['extraction']).apply(lambda x: x.hour)\n",
    "df['m_state_cat'] = df['merchant_state'].astype('category').cat.codes"
   ]
  },
  {
   "cell_type": "code",
   "execution_count": 61,
   "metadata": {},
   "outputs": [
    {
     "data": {
      "text/plain": [
       "Index(['status', 'card_present_flag', 'bpay_biller_code', 'account',\n",
       "       'currency', 'long_lat', 'txn_description', 'merchant_id',\n",
       "       'merchant_code', 'first_name', 'balance', 'date', 'gender', 'age',\n",
       "       'merchant_suburb', 'merchant_state', 'extraction', 'amount',\n",
       "       'transaction_id', 'country', 'customer_id', 'merchant_long_lat',\n",
       "       'movement', 'gender_cat', 'age_group', 'month', 'annual_amount',\n",
       "       'status_cat', 'txn_cat', 'movement_cat', 'hour', 'm_state_cat'],\n",
       "      dtype='object')"
      ]
     },
     "execution_count": 61,
     "metadata": {},
     "output_type": "execute_result"
    }
   ],
   "source": [
    "df.columns"
   ]
  },
  {
   "cell_type": "code",
   "execution_count": 71,
   "metadata": {},
   "outputs": [],
   "source": [
    "label = 'annual_amount'\n",
    "features = [ 'balance', 'month','age',\n",
    "       'm_state_cat', 'gender_cat',\n",
    "       'status_cat', 'txn_cat', 'movement_cat', 'hour']\n",
    "train = df[::2].reset_index()\n",
    "test = df[1::2].reset_index()\n",
    "X_train, y_train = train[features], train[label]\n",
    "X_test, y_test = test[features], test[label]"
   ]
  },
  {
   "cell_type": "code",
   "execution_count": 72,
   "metadata": {},
   "outputs": [
    {
     "data": {
      "text/plain": [
       "0.7870609682025377"
      ]
     },
     "execution_count": 72,
     "metadata": {},
     "output_type": "execute_result"
    }
   ],
   "source": [
    "from sklearn.tree import DecisionTreeRegressor as dt\n",
    "regr = dt(max_depth=5)\n",
    "regr.fit(X_train, y_train)\n",
    "regr.score(X_test, y_test)"
   ]
  },
  {
   "cell_type": "code",
   "execution_count": 74,
   "metadata": {},
   "outputs": [
    {
     "data": {
      "text/plain": [
       "<AxesSubplot:xlabel='actual', ylabel='predict'>"
      ]
     },
     "execution_count": 74,
     "metadata": {},
     "output_type": "execute_result"
    },
    {
     "data": {
      "image/png": "[encoded data removed]",
      "text/plain": [
       "<Figure size 432x288 with 1 Axes>"
      ]
     },
     "metadata": {
      "needs_background": "light"
     },
     "output_type": "display_data"
    }
   ],
   "source": [
    "for_plot = pd.DataFrame()\n",
    "for_plot['predict'] = regr.predict(X_test)\n",
    "for_plot['actual'] = y_test\n",
    "sns.scatterplot(data=for_plot, x='actual', y='predict')"
   ]
  },
  {
   "cell_type": "code",
   "execution_count": null,
   "metadata": {},
   "outputs": [],
   "source": []
  }
 ],
 "metadata": {
  "kernelspec": {
   "display_name": "Python 3",
   "language": "python",
   "name": "python3"
  },
  "language_info": {
   "codemirror_mode": {
    "name": "ipython",
    "version": 3
   },
   "file_extension": ".py",
   "mimetype": "text/x-python",
   "name": "python",
   "nbconvert_exporter": "python",
   "pygments_lexer": "ipython3",
   "version": "3.7.4"
  }
 },
 "nbformat": 4,
 "nbformat_minor": 2
}
